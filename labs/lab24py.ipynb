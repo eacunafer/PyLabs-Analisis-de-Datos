{
 "cells": [
  {
   "cell_type": "markdown",
   "metadata": {},
   "source": [
    "### ESMA 3016\n",
    "### Edgar Acuna\n",
    "### Lab24: Tablas de Contingencia: Analisis de datos categoricos"
   ]
  },
  {
   "cell_type": "code",
   "execution_count": 1,
   "metadata": {
    "collapsed": true
   },
   "outputs": [],
   "source": [
    "import numpy as np\n",
    "from math import sqrt\n",
    "import pandas as pd\n",
    "from scipy import stats\n",
    "import matplotlib.pyplot as plt\n",
    "%matplotlib inline"
   ]
  },
  {
   "cell_type": "code",
   "execution_count": 2,
   "metadata": {},
   "outputs": [
    {
     "name": "stdout",
     "output_type": "stream",
     "text": [
      "   escuela aprueba\n",
      "0     priv      si\n",
      "1     priv      no\n",
      "2     publ      no\n",
      "3     priv      si\n",
      "4     publ      si\n",
      "5     publ      no\n",
      "6     publ      si\n",
      "7     priv      si\n",
      "8     publ      si\n",
      "9     priv      si\n",
      "10    publ      si\n",
      "11    priv      no\n",
      "12    publ      no\n",
      "13    priv      si\n",
      "14    priv      si\n",
      "15    publ      no\n",
      "16    priv      no\n",
      "17    publ      si\n",
      "18    publ      no\n",
      "19    priv      si\n"
     ]
    }
   ],
   "source": [
    "#Ejemplo 1\n",
    "df=pd.read_table(\"http://academic.uprm.edu/eacuna/eje316.txt\",delim_whitespace=True)\n",
    "print df"
   ]
  },
  {
   "cell_type": "markdown",
   "metadata": {},
   "source": [
    "## Prueba de Independencia\n",
    "### Ho: No hay relacion entre entre tipo de escuela y aprobar clase de Mate\n",
    "### Ha: Si hay Relacion entre las variables\n",
    "## Prueba de Homogeneidad\n",
    "### Ho: La proporcion de estudiantes de Esc. publica  que aprueba MATE= proporcion de estudiantes de Es. privada que aprueba MATE \n",
    "### Ha: Las proporciones no son iguales"
   ]
  },
  {
   "cell_type": "code",
   "execution_count": 3,
   "metadata": {},
   "outputs": [
    {
     "data": {
      "text/html": [
       "<div>\n",
       "<style>\n",
       "    .dataframe thead tr:only-child th {\n",
       "        text-align: right;\n",
       "    }\n",
       "\n",
       "    .dataframe thead th {\n",
       "        text-align: left;\n",
       "    }\n",
       "\n",
       "    .dataframe tbody tr th {\n",
       "        vertical-align: top;\n",
       "    }\n",
       "</style>\n",
       "<table border=\"1\" class=\"dataframe\">\n",
       "  <thead>\n",
       "    <tr style=\"text-align: right;\">\n",
       "      <th>aprueba</th>\n",
       "      <th>no</th>\n",
       "      <th>si</th>\n",
       "    </tr>\n",
       "    <tr>\n",
       "      <th>escuela</th>\n",
       "      <th></th>\n",
       "      <th></th>\n",
       "    </tr>\n",
       "  </thead>\n",
       "  <tbody>\n",
       "    <tr>\n",
       "      <th>priv</th>\n",
       "      <td>3</td>\n",
       "      <td>7</td>\n",
       "    </tr>\n",
       "    <tr>\n",
       "      <th>publ</th>\n",
       "      <td>5</td>\n",
       "      <td>5</td>\n",
       "    </tr>\n",
       "  </tbody>\n",
       "</table>\n",
       "</div>"
      ],
      "text/plain": [
       "aprueba  no  si\n",
       "escuela        \n",
       "priv      3   7\n",
       "publ      5   5"
      ]
     },
     "execution_count": 3,
     "metadata": {},
     "output_type": "execute_result"
    }
   ],
   "source": [
    "pd.crosstab(df.escuela, df.aprueba)"
   ]
  },
  {
   "cell_type": "code",
   "execution_count": 4,
   "metadata": {
    "collapsed": true
   },
   "outputs": [],
   "source": [
    "chi2, p, dof, ex=stats.chi2_contingency(pd.crosstab(df.escuela, df.aprueba),correction=False)"
   ]
  },
  {
   "cell_type": "code",
   "execution_count": 5,
   "metadata": {},
   "outputs": [
    {
     "name": "stdout",
     "output_type": "stream",
     "text": [
      "El valor de la prueba Chi2 es: 0.833333333333\n"
     ]
    }
   ],
   "source": [
    "print \"El valor de la prueba Chi2 es:\", chi2"
   ]
  },
  {
   "cell_type": "code",
   "execution_count": 6,
   "metadata": {},
   "outputs": [
    {
     "name": "stdout",
     "output_type": "stream",
     "text": [
      "El p-value de la prueba es: 0.361310428526\n"
     ]
    }
   ],
   "source": [
    "print \"El p-value de la prueba es:\", p"
   ]
  },
  {
   "cell_type": "code",
   "execution_count": 7,
   "metadata": {},
   "outputs": [
    {
     "name": "stdout",
     "output_type": "stream",
     "text": [
      "los grados de libertad son: 1\n"
     ]
    }
   ],
   "source": [
    "print \"los grados de libertad son:\", dof"
   ]
  },
  {
   "cell_type": "code",
   "execution_count": 8,
   "metadata": {},
   "outputs": [
    {
     "name": "stdout",
     "output_type": "stream",
     "text": [
      "Las frecuencias esperadas son: [[ 4.  6.]\n",
      " [ 4.  6.]]\n"
     ]
    }
   ],
   "source": [
    "print \"Las frecuencias esperadas son:\", ex"
   ]
  },
  {
   "cell_type": "markdown",
   "metadata": {},
   "source": [
    " ### Conclusion:  Como el p-value es mayor que .05 no se rechaza la hipotesis nula y se concluye que no hay  relacion entre el tipo de escuela y aprobar la primera clase de Mate"
   ]
  },
  {
   "cell_type": "code",
   "execution_count": 9,
   "metadata": {},
   "outputs": [
    {
     "name": "stdout",
     "output_type": "stream",
     "text": [
      "<class 'pandas.core.frame.DataFrame'>\n",
      "RangeIndex: 6 entries, 0 to 5\n",
      "Data columns (total 3 columns):\n",
      "Sexo       6 non-null object\n",
      "Opinion    6 non-null object\n",
      "conteo     6 non-null int64\n",
      "dtypes: int64(1), object(2)\n",
      "memory usage: 216.0+ bytes\n"
     ]
    }
   ],
   "source": [
    "# Ejemplo 2 Haciendo una tabla de clasificacion cruzda con datos resumidos\n",
    "df=pd.read_csv(\"https://academic.uprm.edu/eacuna/eje2biv.csv\",sep=\",\")\n",
    "df.info()"
   ]
  },
  {
   "cell_type": "code",
   "execution_count": 10,
   "metadata": {},
   "outputs": [
    {
     "name": "stdout",
     "output_type": "stream",
     "text": [
      "Opinion  abst  no  si\n",
      "Sexo                 \n",
      "female     44  31  15\n",
      "male       30  20  10\n"
     ]
    }
   ],
   "source": [
    "tabla=pd.pivot_table(df,values='conteo',index='Sexo',columns='Opinion',aggfunc=np.sum)\n",
    "print tabla"
   ]
  },
  {
   "cell_type": "markdown",
   "metadata": {},
   "source": [
    "## Prueba de Independencia\n",
    "### Ho: No hay relacion entre entre la opinion de la persona y su genero \n",
    "### Ha: Si hay Relacion entre las variables\n",
    "## Prueba de Homogeneidad\n",
    "### Ho: La proporcion de mujeres a favor= proporcion de mujeres en contra=proporciones de mujeres que se abstienen \n",
    "### Ha: Las proporciones no son iguales"
   ]
  },
  {
   "cell_type": "code",
   "execution_count": 11,
   "metadata": {
    "collapsed": true
   },
   "outputs": [],
   "source": [
    "chi2, p, dof, ex=stats.chi2_contingency(tabla,correction=False)"
   ]
  },
  {
   "cell_type": "code",
   "execution_count": 12,
   "metadata": {},
   "outputs": [
    {
     "name": "stdout",
     "output_type": "stream",
     "text": [
      "La prueba de Chi-Square es: 0.0220809044338\n"
     ]
    }
   ],
   "source": [
    "print \"La prueba de Chi-Square es:\", chi2"
   ]
  },
  {
   "cell_type": "code",
   "execution_count": 13,
   "metadata": {},
   "outputs": [
    {
     "name": "stdout",
     "output_type": "stream",
     "text": [
      "El p-value de la prueba es: 0.989020269904\n"
     ]
    }
   ],
   "source": [
    "print \"El p-value de la prueba es:\", p"
   ]
  },
  {
   "cell_type": "code",
   "execution_count": 14,
   "metadata": {},
   "outputs": [
    {
     "name": "stdout",
     "output_type": "stream",
     "text": [
      "Los grados de libertad son: 2\n"
     ]
    }
   ],
   "source": [
    "print \"Los grados de libertad son:\", dof"
   ]
  },
  {
   "cell_type": "code",
   "execution_count": 15,
   "metadata": {},
   "outputs": [
    {
     "name": "stdout",
     "output_type": "stream",
     "text": [
      "Las frecuencias esperadas son [[ 44.4  30.6  15. ]\n",
      " [ 29.6  20.4  10. ]]\n"
     ]
    }
   ],
   "source": [
    "print \"Las frecuencias esperadas son\", ex"
   ]
  },
  {
   "cell_type": "markdown",
   "metadata": {
    "collapsed": true
   },
   "source": [
    "### Conclusion:  Como el p-value es mayor que .05 no se rechaza la hipotesis nula y se concluye que  no hay  relacion entre la opinion de la persona y su genero "
   ]
  },
  {
   "cell_type": "markdown",
   "metadata": {},
   "source": [
    "###  Ejemplo:  Datos de los clientes de la Ricomini"
   ]
  },
  {
   "cell_type": "code",
   "execution_count": 16,
   "metadata": {
    "collapsed": true
   },
   "outputs": [],
   "source": [
    "ricomini=pd.read_csv(\"http://academic.uprm.edu/eacuna/ricomini.csv\")"
   ]
  },
  {
   "cell_type": "code",
   "execution_count": 17,
   "metadata": {},
   "outputs": [
    {
     "name": "stdout",
     "output_type": "stream",
     "text": [
      "<class 'pandas.core.frame.DataFrame'>\n",
      "RangeIndex: 64 entries, 0 to 63\n",
      "Data columns (total 25 columns):\n",
      "Establecimiento                                                       64 non-null object\n",
      "Edad                                                                  64 non-null object\n",
      "Sexo                                                                  64 non-null object\n",
      "Estado Civil                                                          64 non-null object\n",
      "Hijos                                                                 64 non-null object\n",
      "Ocupaci�n                                                             64 non-null object\n",
      "Ingresos                                                              64 non-null object\n",
      "Residencia                                                            64 non-null object\n",
      "Visita                                                                64 non-null object\n",
      "Total de compra                                                       64 non-null object\n",
      "Conocimiento                                                          64 non-null object\n",
      "Desde hace cu�nto tiempo conoce sobre este establecimiento?           64 non-null object\n",
      "Con cu�nta frecuencia visita este establecimiento?                    64 non-null object\n",
      "Tiempo                                                                64 non-null object\n",
      "Productos                                                             64 non-null int64\n",
      "Servicio                                                              64 non-null int64\n",
      "Precio                                                                64 non-null int64\n",
      "Calidad                                                               64 non-null int64\n",
      "Sabor                                                                 64 non-null int64\n",
      "Apariencia                                                            64 non-null int64\n",
      "Accesibilidad                                                         64 non-null int64\n",
      "Factores de Compra                                                    64 non-null object\n",
      "Social Media                                                          64 non-null object\n",
      "Medio de Informacion                                                  64 non-null object\n",
      "Si seleccion� social media, que red utiliza para estos prop�sitos?    61 non-null object\n",
      "dtypes: int64(7), object(18)\n",
      "memory usage: 12.6+ KB\n"
     ]
    }
   ],
   "source": [
    "ricomini.info()"
   ]
  },
  {
   "cell_type": "code",
   "execution_count": 18,
   "metadata": {},
   "outputs": [
    {
     "data": {
      "text/html": [
       "<div>\n",
       "<style>\n",
       "    .dataframe thead tr:only-child th {\n",
       "        text-align: right;\n",
       "    }\n",
       "\n",
       "    .dataframe thead th {\n",
       "        text-align: left;\n",
       "    }\n",
       "\n",
       "    .dataframe tbody tr th {\n",
       "        vertical-align: top;\n",
       "    }\n",
       "</style>\n",
       "<table border=\"1\" class=\"dataframe\">\n",
       "  <thead>\n",
       "    <tr style=\"text-align: right;\">\n",
       "      <th>Edad</th>\n",
       "      <th>18-25</th>\n",
       "      <th>26-35</th>\n",
       "      <th>36-45</th>\n",
       "      <th>45 o mas</th>\n",
       "    </tr>\n",
       "    <tr>\n",
       "      <th>Establecimiento</th>\n",
       "      <th></th>\n",
       "      <th></th>\n",
       "      <th></th>\n",
       "      <th></th>\n",
       "    </tr>\n",
       "  </thead>\n",
       "  <tbody>\n",
       "    <tr>\n",
       "      <th>Corazones</th>\n",
       "      <td>5</td>\n",
       "      <td>2</td>\n",
       "      <td>1</td>\n",
       "      <td>8</td>\n",
       "    </tr>\n",
       "    <tr>\n",
       "      <th>Factoria</th>\n",
       "      <td>5</td>\n",
       "      <td>4</td>\n",
       "      <td>2</td>\n",
       "      <td>5</td>\n",
       "    </tr>\n",
       "    <tr>\n",
       "      <th>Mendez-Vigo</th>\n",
       "      <td>13</td>\n",
       "      <td>1</td>\n",
       "      <td>0</td>\n",
       "      <td>2</td>\n",
       "    </tr>\n",
       "    <tr>\n",
       "      <th>Post</th>\n",
       "      <td>7</td>\n",
       "      <td>2</td>\n",
       "      <td>5</td>\n",
       "      <td>2</td>\n",
       "    </tr>\n",
       "  </tbody>\n",
       "</table>\n",
       "</div>"
      ],
      "text/plain": [
       "Edad             18-25  26-35  36-45  45 o mas\n",
       "Establecimiento                               \n",
       "Corazones            5      2      1         8\n",
       "Factoria             5      4      2         5\n",
       "Mendez-Vigo         13      1      0         2\n",
       "Post                 7      2      5         2"
      ]
     },
     "execution_count": 18,
     "metadata": {},
     "output_type": "execute_result"
    }
   ],
   "source": [
    "pd.crosstab(ricomini.Establecimiento, ricomini.Edad)"
   ]
  },
  {
   "cell_type": "code",
   "execution_count": 19,
   "metadata": {
    "collapsed": true
   },
   "outputs": [],
   "source": [
    "chi2, p, dof, esperadas=stats.chi2_contingency(pd.crosstab(ricomini.Establecimiento, ricomini.Edad),correction=False)"
   ]
  },
  {
   "cell_type": "code",
   "execution_count": 20,
   "metadata": {},
   "outputs": [
    {
     "name": "stdout",
     "output_type": "stream",
     "text": [
      "La prueba de Chi-Square es: 20.6679738562\n"
     ]
    }
   ],
   "source": [
    "print \"La prueba de Chi-Square es:\", chi2"
   ]
  },
  {
   "cell_type": "code",
   "execution_count": 21,
   "metadata": {},
   "outputs": [
    {
     "name": "stdout",
     "output_type": "stream",
     "text": [
      "El p-value de la prueba es: 0.0142091029121\n"
     ]
    }
   ],
   "source": [
    "print \"El p-value de la prueba es:\", p"
   ]
  },
  {
   "cell_type": "code",
   "execution_count": 22,
   "metadata": {
    "collapsed": true
   },
   "outputs": [],
   "source": [
    "chi2, p, dof, esperadas=stats.chi2_contingency(pd.crosstab(ricomini.Establecimiento, ricomini.Ingresos),correction=False)"
   ]
  },
  {
   "cell_type": "code",
   "execution_count": 23,
   "metadata": {},
   "outputs": [
    {
     "name": "stdout",
     "output_type": "stream",
     "text": [
      "El p-value de la prueba es: 0.250546624404\n"
     ]
    }
   ],
   "source": [
    "print \"El p-value de la prueba es:\", p"
   ]
  },
  {
   "cell_type": "code",
   "execution_count": 24,
   "metadata": {
    "collapsed": true
   },
   "outputs": [],
   "source": [
    "chi2, p, dof, esperadas=stats.chi2_contingency(pd.crosstab(ricomini.Establecimiento, ricomini.Sabor),correction=False)"
   ]
  },
  {
   "cell_type": "code",
   "execution_count": 25,
   "metadata": {},
   "outputs": [
    {
     "name": "stdout",
     "output_type": "stream",
     "text": [
      "El p-value de la prueba es: 0.346170537117\n"
     ]
    }
   ],
   "source": [
    "print \"El p-value de la prueba es:\", p"
   ]
  },
  {
   "cell_type": "code",
   "execution_count": 26,
   "metadata": {
    "collapsed": true
   },
   "outputs": [],
   "source": [
    "chi2, p, dof, esperadas=stats.chi2_contingency(pd.crosstab(ricomini.Establecimiento, ricomini.Calidad),correction=False)"
   ]
  },
  {
   "cell_type": "code",
   "execution_count": 27,
   "metadata": {},
   "outputs": [
    {
     "name": "stdout",
     "output_type": "stream",
     "text": [
      "El p-value de lpa prueba es: 0.13776922468\n"
     ]
    }
   ],
   "source": [
    "print \"El p-value de lpa prueba es:\", p"
   ]
  },
  {
   "cell_type": "code",
   "execution_count": 28,
   "metadata": {
    "collapsed": true
   },
   "outputs": [],
   "source": [
    "chi2, p, dof, esperadas=stats.chi2_contingency(pd.crosstab(ricomini.Establecimiento, ricomini.Servicio),correction=False)"
   ]
  },
  {
   "cell_type": "code",
   "execution_count": 29,
   "metadata": {},
   "outputs": [
    {
     "name": "stdout",
     "output_type": "stream",
     "text": [
      "El p-value de lpa prueba es: 0.0909359765798\n"
     ]
    }
   ],
   "source": [
    "print \"El p-value de lpa prueba es:\", p"
   ]
  },
  {
   "cell_type": "code",
   "execution_count": 30,
   "metadata": {
    "collapsed": true
   },
   "outputs": [],
   "source": [
    "chi2, p, dof, esperadas=stats.chi2_contingency(pd.crosstab(ricomini.Establecimiento, ricomini.Tiempo),correction=False)"
   ]
  },
  {
   "cell_type": "code",
   "execution_count": 31,
   "metadata": {},
   "outputs": [
    {
     "name": "stdout",
     "output_type": "stream",
     "text": [
      "El p-value de lpa prueba es: 0.291094148914\n"
     ]
    }
   ],
   "source": [
    "print \"El p-value de lpa prueba es:\", p"
   ]
  },
  {
   "cell_type": "markdown",
   "metadata": {},
   "source": [
    "### Solamente parece haber relacion entre el grupo de Edad del cliente y el establecimiento elegido"
   ]
  },
  {
   "cell_type": "code",
   "execution_count": null,
   "metadata": {
    "collapsed": true
   },
   "outputs": [],
   "source": []
  }
 ],
 "metadata": {
  "kernelspec": {
   "display_name": "Python 2",
   "language": "python",
   "name": "python2"
  },
  "language_info": {
   "codemirror_mode": {
    "name": "ipython",
    "version": 2
   },
   "file_extension": ".py",
   "mimetype": "text/x-python",
   "name": "python",
   "nbconvert_exporter": "python",
   "pygments_lexer": "ipython2",
   "version": "2.7.13"
  },
  "widgets": {
   "application/vnd.jupyter.widget-state+json": {
    "state": {},
    "version_major": 1,
    "version_minor": 0
   }
  }
 },
 "nbformat": 4,
 "nbformat_minor": 2
}
