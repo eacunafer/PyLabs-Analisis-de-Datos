{
 "cells": [
  {
   "cell_type": "markdown",
   "metadata": {},
   "source": [
    "### ESMA 3016\n",
    "### Edgar Acuna\n",
    "### Lab25: Medidas de Asociacion y Prueba de Bondad de Ajuste"
   ]
  },
  {
   "cell_type": "code",
   "execution_count": 50,
   "metadata": {
    "collapsed": true
   },
   "outputs": [],
   "source": [
    "import numpy as np\n",
    "from math import sqrt\n",
    "import pandas as pd\n",
    "from scipy import stats\n",
    "import matplotlib.pyplot as plt\n",
    "%matplotlib inline"
   ]
  },
  {
   "cell_type": "code",
   "execution_count": 51,
   "metadata": {
    "scrolled": true
   },
   "outputs": [
    {
     "name": "stdout",
     "output_type": "stream",
     "text": [
      "       Va.a.iglesia     Falta.a.clase  Cantidad\n",
      "0             Nunca             Nunca        91\n",
      "1  De-vez-en-cuando             Nunca       140\n",
      "2    Frecuentemente             Nunca       296\n",
      "3             Nunca  De-vez-en-cuando        68\n",
      "4  De-vez-en-cuando  De-vez-en-cuando        78\n",
      "5    Frecuentemente  De-vez-en-cuando       106\n",
      "6             Nunca    Frecuentemente       136\n",
      "7  De-vez-en-cuando    Frecuentemente       119\n",
      "8    Frecuentemente    Frecuentemente        90\n"
     ]
    }
   ],
   "source": [
    "#Ejemplo 1:Relacion entre asistor a la iglesia y faltar a clase\n",
    "df=pd.read_table(\"http://academic.uprm.edu/eacuna/eje84.txt\",delim_whitespace=True)\n",
    "print df"
   ]
  },
  {
   "cell_type": "code",
   "execution_count": 52,
   "metadata": {},
   "outputs": [
    {
     "name": "stdout",
     "output_type": "stream",
     "text": [
      "<class 'pandas.core.frame.DataFrame'>\n",
      "RangeIndex: 9 entries, 0 to 8\n",
      "Data columns (total 3 columns):\n",
      "Va.a.iglesia     9 non-null object\n",
      "Falta.a.clase    9 non-null object\n",
      "Cantidad         9 non-null int64\n",
      "dtypes: int64(1), object(2)\n",
      "memory usage: 288.0+ bytes\n"
     ]
    }
   ],
   "source": [
    "df.info()"
   ]
  },
  {
   "cell_type": "code",
   "execution_count": 53,
   "metadata": {},
   "outputs": [
    {
     "name": "stdout",
     "output_type": "stream",
     "text": [
      "Falta.a.clase     De-vez-en-cuando  Frecuentemente  Nunca     All\n",
      "Va.a.iglesia                                                     \n",
      "De-vez-en-cuando              78.0           119.0  140.0   337.0\n",
      "Frecuentemente               106.0            90.0  296.0   492.0\n",
      "Nunca                         68.0           136.0   91.0   295.0\n",
      "All                          252.0           345.0  527.0  1124.0\n"
     ]
    }
   ],
   "source": [
    "tabla=pd.pivot_table(df,values='Cantidad',index='Va.a.iglesia',columns='Falta.a.clase',aggfunc=np.sum,margins=True)\n",
    "print tabla"
   ]
  },
  {
   "cell_type": "markdown",
   "metadata": {},
   "source": [
    "## Prueba de Independencia\n",
    "### Ho: No hay relacion entre asistir a la iglesia y faltar a clases\n",
    "### Ha: Si hay Relacion entre las variables\n",
    "## Prueba de Homogeneidad\n",
    "### Ho: La proporcion de estudiantes que van frecuentemente a misa y van a clase de vez en cuando=\n",
    "###  La proporcion de estudiantes que van frecuentemente a misa y van a clase frecuentemente=\n",
    "### La proporcion de estudiantes que van frecuentemente a misa y nunca van a clase\n",
    "### Ha: Las proporciones no son iguales"
   ]
  },
  {
   "cell_type": "code",
   "execution_count": 54,
   "metadata": {
    "collapsed": true
   },
   "outputs": [],
   "source": [
    "chi2, p, dof, ex=stats.chi2_contingency(tabla,correction=False)"
   ]
  },
  {
   "cell_type": "code",
   "execution_count": 55,
   "metadata": {},
   "outputs": [
    {
     "name": "stdout",
     "output_type": "stream",
     "text": [
      "El valor de la prueba Chi2 es: 86.8420289911\n"
     ]
    }
   ],
   "source": [
    "print \"El valor de la prueba Chi2 es:\", chi2"
   ]
  },
  {
   "cell_type": "code",
   "execution_count": 56,
   "metadata": {},
   "outputs": [
    {
     "name": "stdout",
     "output_type": "stream",
     "text": [
      "El p-value de la prueba es: 6.98863165348e-15\n"
     ]
    }
   ],
   "source": [
    "print \"El p-value de la prueba es:\", p"
   ]
  },
  {
   "cell_type": "code",
   "execution_count": 57,
   "metadata": {},
   "outputs": [
    {
     "name": "stdout",
     "output_type": "stream",
     "text": [
      "Los grados de libertad de la prueba son: 9\n"
     ]
    }
   ],
   "source": [
    "print \"Los grados de libertad de la prueba son:\",  dof"
   ]
  },
  {
   "cell_type": "markdown",
   "metadata": {},
   "source": [
    "### WARNING: el usar margen le confunde al programa piensa que la tabla es 3x3 en lugar de 4x4 eso hace que el p-value no sea el correcto"
   ]
  },
  {
   "cell_type": "code",
   "execution_count": 58,
   "metadata": {
    "collapsed": true
   },
   "outputs": [],
   "source": [
    "coef_cont=sqrt(chi2/(chi2+1124))"
   ]
  },
  {
   "cell_type": "code",
   "execution_count": 59,
   "metadata": {},
   "outputs": [
    {
     "name": "stdout",
     "output_type": "stream",
     "text": [
      "El coeficiente de Contigencia es: 0.267806576257\n"
     ]
    }
   ],
   "source": [
    "print \"El coeficiente de Contigencia es:\", coef_cont"
   ]
  },
  {
   "cell_type": "markdown",
   "metadata": {},
   "source": [
    " ### Conclusion:  No existe una buena  asociación entre asistir a la iglesia y faltar a clases"
   ]
  },
  {
   "cell_type": "code",
   "execution_count": 60,
   "metadata": {},
   "outputs": [
    {
     "name": "stdout",
     "output_type": "stream",
     "text": [
      "  status pet?  conteo\n",
      "0  muere   no      11\n",
      "1  muere   si       3\n",
      "2   vive   no      28\n",
      "3   vive   si      50\n"
     ]
    }
   ],
   "source": [
    "# Ejemplo 2 \n",
    "df=pd.read_table(\"http://academic.uprm.edu/eacuna/eje85.txt\",delim_whitespace=True)\n",
    "print df"
   ]
  },
  {
   "cell_type": "code",
   "execution_count": 61,
   "metadata": {
    "scrolled": false
   },
   "outputs": [
    {
     "name": "stdout",
     "output_type": "stream",
     "text": [
      "pet?    no  si\n",
      "status        \n",
      "muere   11   3\n",
      "vive    28  50\n"
     ]
    }
   ],
   "source": [
    "tabla=pd.pivot_table(df,values='conteo',index='status',columns='pet?',aggfunc=np.sum)\n",
    "print tabla"
   ]
  },
  {
   "cell_type": "markdown",
   "metadata": {},
   "source": [
    "## Prueba de Independencia\n",
    "### Ho: No hay relacion entre entre tener pet  y sobrevivir al ataque cardiaco \n",
    "### Ha: Si hay Relacion entre las variables\n",
    "## Prueba de Homogeneidad\n",
    "### Ho: La proporcion de pacientes que tiene pet y viven= proporcion de pacientes que no tienen pet y mueren\n",
    "### Ha: Las proporciones no son iguales"
   ]
  },
  {
   "cell_type": "code",
   "execution_count": 62,
   "metadata": {
    "collapsed": true
   },
   "outputs": [],
   "source": [
    "chi2, p, dof1, ex=stats.chi2_contingency(tabla,correction=False)"
   ]
  },
  {
   "cell_type": "code",
   "execution_count": 63,
   "metadata": {},
   "outputs": [
    {
     "name": "stdout",
     "output_type": "stream",
     "text": [
      "La prueba de Chi-Square es: 8.85108569869\n"
     ]
    }
   ],
   "source": [
    "print \"La prueba de Chi-Square es:\", chi2"
   ]
  },
  {
   "cell_type": "code",
   "execution_count": 64,
   "metadata": {},
   "outputs": [
    {
     "name": "stdout",
     "output_type": "stream",
     "text": [
      "El p-value de la prueba es: 0.00292914605095\n"
     ]
    }
   ],
   "source": [
    "print \"El p-value de la prueba es:\", p"
   ]
  },
  {
   "cell_type": "code",
   "execution_count": 65,
   "metadata": {},
   "outputs": [
    {
     "name": "stdout",
     "output_type": "stream",
     "text": [
      "Los grados de libertad: 1\n"
     ]
    }
   ],
   "source": [
    "print \"Los grados de libertad:\", dof1"
   ]
  },
  {
   "cell_type": "markdown",
   "metadata": {
    "collapsed": true
   },
   "source": [
    "### Conclusion:  Como el p-value es menor que .05  se rechaza la hipotesis nula y se concluye que  si hay  relacion entre tener pet y sobrevivir al ataque cardiaco. "
   ]
  },
  {
   "cell_type": "code",
   "execution_count": 66,
   "metadata": {},
   "outputs": [
    {
     "name": "stdout",
     "output_type": "stream",
     "text": [
      "pet?      no    si   All\n",
      "status                  \n",
      "muere   11.0   3.0  14.0\n",
      "vive    28.0  50.0  78.0\n",
      "All     39.0  53.0  92.0\n"
     ]
    }
   ],
   "source": [
    "tabla1=pd.pivot_table(df,values='conteo',index='status',columns='pet?',aggfunc=np.sum,margins=True)\n",
    "print tabla1"
   ]
  },
  {
   "cell_type": "code",
   "execution_count": 67,
   "metadata": {},
   "outputs": [
    {
     "name": "stdout",
     "output_type": "stream",
     "text": [
      "El coeficiente de Cramer es: 0.310173263269\n"
     ]
    }
   ],
   "source": [
    "#Calculando el coeficiente de Cramer\n",
    "Cramer=sqrt(chi2/92)\n",
    "print \"El coeficiente de Cramer es:\" , Cramer"
   ]
  },
  {
   "cell_type": "markdown",
   "metadata": {},
   "source": [
    "### Hay buena asociacion entre las variables: tener pet y sobrevir un ataque cardiaco"
   ]
  },
  {
   "cell_type": "markdown",
   "metadata": {},
   "source": [
    "### Ejemplo de Bondad de ajuste (Goodness of fit) usando la Chi-Square"
   ]
  },
  {
   "cell_type": "code",
   "execution_count": 68,
   "metadata": {},
   "outputs": [],
   "source": [
    "#Ejemplo de Bondad de Ajuste\n",
    "#Los datos son los nacimientos por mes en Puerto Rico\n",
    "#se desea probar si hay igual numero de nacimientos por mes\n",
    "df=pd.read_table(\"http://academic.uprm.edu/eacuna/nacimientosPR.txt\",delim_whitespace=True)"
   ]
  },
  {
   "cell_type": "code",
   "execution_count": 69,
   "metadata": {},
   "outputs": [
    {
     "data": {
      "text/html": [
       "<div>\n",
       "<style>\n",
       "    .dataframe thead tr:only-child th {\n",
       "        text-align: right;\n",
       "    }\n",
       "\n",
       "    .dataframe thead th {\n",
       "        text-align: left;\n",
       "    }\n",
       "\n",
       "    .dataframe tbody tr th {\n",
       "        vertical-align: top;\n",
       "    }\n",
       "</style>\n",
       "<table border=\"1\" class=\"dataframe\">\n",
       "  <thead>\n",
       "    <tr style=\"text-align: right;\">\n",
       "      <th></th>\n",
       "      <th>Mes</th>\n",
       "      <th>Nacidos</th>\n",
       "    </tr>\n",
       "  </thead>\n",
       "  <tbody>\n",
       "    <tr>\n",
       "      <th>0</th>\n",
       "      <td>Ene</td>\n",
       "      <td>5435</td>\n",
       "    </tr>\n",
       "    <tr>\n",
       "      <th>1</th>\n",
       "      <td>Feb</td>\n",
       "      <td>4830</td>\n",
       "    </tr>\n",
       "    <tr>\n",
       "      <th>2</th>\n",
       "      <td>Mar</td>\n",
       "      <td>5229</td>\n",
       "    </tr>\n",
       "    <tr>\n",
       "      <th>3</th>\n",
       "      <td>Abr</td>\n",
       "      <td>4932</td>\n",
       "    </tr>\n",
       "    <tr>\n",
       "      <th>4</th>\n",
       "      <td>May</td>\n",
       "      <td>5052</td>\n",
       "    </tr>\n",
       "    <tr>\n",
       "      <th>5</th>\n",
       "      <td>Jun</td>\n",
       "      <td>5072</td>\n",
       "    </tr>\n",
       "    <tr>\n",
       "      <th>6</th>\n",
       "      <td>Jul</td>\n",
       "      <td>5198</td>\n",
       "    </tr>\n",
       "    <tr>\n",
       "      <th>7</th>\n",
       "      <td>Ago</td>\n",
       "      <td>5712</td>\n",
       "    </tr>\n",
       "    <tr>\n",
       "      <th>8</th>\n",
       "      <td>Sep</td>\n",
       "      <td>6126</td>\n",
       "    </tr>\n",
       "    <tr>\n",
       "      <th>9</th>\n",
       "      <td>Oct</td>\n",
       "      <td>5972</td>\n",
       "    </tr>\n",
       "    <tr>\n",
       "      <th>10</th>\n",
       "      <td>Nov</td>\n",
       "      <td>5748</td>\n",
       "    </tr>\n",
       "    <tr>\n",
       "      <th>11</th>\n",
       "      <td>Dic</td>\n",
       "      <td>5936</td>\n",
       "    </tr>\n",
       "  </tbody>\n",
       "</table>\n",
       "</div>"
      ],
      "text/plain": [
       "    Mes  Nacidos\n",
       "0   Ene     5435\n",
       "1   Feb     4830\n",
       "2   Mar     5229\n",
       "3   Abr     4932\n",
       "4   May     5052\n",
       "5   Jun     5072\n",
       "6   Jul     5198\n",
       "7   Ago     5712\n",
       "8   Sep     6126\n",
       "9   Oct     5972\n",
       "10  Nov     5748\n",
       "11  Dic     5936"
      ]
     },
     "execution_count": 69,
     "metadata": {},
     "output_type": "execute_result"
    }
   ],
   "source": [
    "df"
   ]
  },
  {
   "cell_type": "code",
   "execution_count": 70,
   "metadata": {},
   "outputs": [
    {
     "data": {
      "text/plain": [
       "0     5435\n",
       "1     4830\n",
       "2     5229\n",
       "3     4932\n",
       "4     5052\n",
       "5     5072\n",
       "6     5198\n",
       "7     5712\n",
       "8     6126\n",
       "9     5972\n",
       "10    5748\n",
       "11    5936\n",
       "Name: Nacidos, dtype: int64"
      ]
     },
     "execution_count": 70,
     "metadata": {},
     "output_type": "execute_result"
    }
   ],
   "source": [
    "observed=df['Nacidos']\n",
    "observed"
   ]
  },
  {
   "cell_type": "markdown",
   "metadata": {},
   "source": [
    "### Ho: Hay igual probabilidad de nacer en cualquier mes del año   ( p1 = p2 = … = p12 = 1/12 = .083). \n",
    "### Ha: En algunos  meses hay mas probabilidad de nacer que en  otros..\n"
   ]
  },
  {
   "cell_type": "code",
   "execution_count": 71,
   "metadata": {},
   "outputs": [],
   "source": [
    "a=observed.sum()/float(12)"
   ]
  },
  {
   "cell_type": "code",
   "execution_count": 72,
   "metadata": {},
   "outputs": [
    {
     "data": {
      "text/plain": [
       "[5436.833333333333,\n",
       " 5436.833333333333,\n",
       " 5436.833333333333,\n",
       " 5436.833333333333,\n",
       " 5436.833333333333,\n",
       " 5436.833333333333,\n",
       " 5436.833333333333,\n",
       " 5436.833333333333,\n",
       " 5436.833333333333,\n",
       " 5436.833333333333,\n",
       " 5436.833333333333,\n",
       " 5436.833333333333]"
      ]
     },
     "execution_count": 72,
     "metadata": {},
     "output_type": "execute_result"
    }
   ],
   "source": [
    "### Calculando las frecuencias esperadas\n",
    "expected=[a]*12\n",
    "expected"
   ]
  },
  {
   "cell_type": "code",
   "execution_count": 73,
   "metadata": {},
   "outputs": [
    {
     "data": {
      "text/plain": [
       "Power_divergenceResult(statistic=402.36761595291375, pvalue=1.9233955478201534e-79)"
      ]
     },
     "execution_count": 73,
     "metadata": {},
     "output_type": "execute_result"
    }
   ],
   "source": [
    "stats.chisquare(observed, f_exp=expected)"
   ]
  },
  {
   "attachments": {},
   "cell_type": "markdown",
   "metadata": {},
   "source": [
    "#### Conclusion: Como el P-value es practicamente CERO se rechaza la hipotesis Nula y se concluye que no hay igual numero de nacimientos en cada mes.\n"
   ]
  },
  {
   "cell_type": "code",
   "execution_count": null,
   "metadata": {
    "collapsed": true
   },
   "outputs": [],
   "source": []
  }
 ],
 "metadata": {
  "kernelspec": {
   "display_name": "Python 2",
   "language": "python",
   "name": "python2"
  },
  "language_info": {
   "codemirror_mode": {
    "name": "ipython",
    "version": 2
   },
   "file_extension": ".py",
   "mimetype": "text/x-python",
   "name": "python",
   "nbconvert_exporter": "python",
   "pygments_lexer": "ipython2",
   "version": "2.7.13"
  },
  "widgets": {
   "application/vnd.jupyter.widget-state+json": {
    "state": {},
    "version_major": 1,
    "version_minor": 0
   }
  }
 },
 "nbformat": 4,
 "nbformat_minor": 2
}
