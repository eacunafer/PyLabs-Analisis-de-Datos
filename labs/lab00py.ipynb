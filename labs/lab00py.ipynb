{
 "cells": [
  {
   "cell_type": "markdown",
   "metadata": {},
   "source": [
    "# Primer Notebook\n",
    "## ESMA 3016\n",
    "## Edgar Acuna\n",
    "## Febrero 1, 2018"
   ]
  },
  {
   "cell_type": "code",
   "execution_count": 3,
   "metadata": {},
   "outputs": [
    {
     "data": {
      "text/plain": [
       "3"
      ]
     },
     "execution_count": 3,
     "metadata": {},
     "output_type": "execute_result"
    }
   ],
   "source": [
    "# Una operacion basica elemental\n",
    "(3+5*6)/11"
   ]
  },
  {
   "cell_type": "code",
   "execution_count": 4,
   "metadata": {},
   "outputs": [
    {
     "name": "stdout",
     "output_type": "stream",
     "text": [
      "How old are you? 55\n"
     ]
    }
   ],
   "source": [
    "# Entrando el dato con el teclado\n",
    "age = input(\"How old are you? \")"
   ]
  },
  {
   "cell_type": "code",
   "execution_count": 5,
   "metadata": {},
   "outputs": [
    {
     "name": "stdout",
     "output_type": "stream",
     "text": [
      "Your age is 55\n"
     ]
    }
   ],
   "source": [
    "print \"Your age is\", age"
   ]
  },
  {
   "cell_type": "code",
   "execution_count": 6,
   "metadata": {},
   "outputs": [
    {
     "name": "stdout",
     "output_type": "stream",
     "text": [
      "You have 10 years until retirement\n"
     ]
    }
   ],
   "source": [
    "print \"You have\", 65 - age, \"years until retirement\""
   ]
  },
  {
   "cell_type": "code",
   "execution_count": 7,
   "metadata": {},
   "outputs": [],
   "source": [
    "name = \"Edgar Acuna Fernandez\"\n",
    "length = len(name)"
   ]
  },
  {
   "cell_type": "code",
   "execution_count": 8,
   "metadata": {},
   "outputs": [
    {
     "name": "stdout",
     "output_type": "stream",
     "text": [
      "EDGAR ACUNA FERNANDEZ tiene 21 caracteres\n"
     ]
    }
   ],
   "source": [
    "\n",
    "big_name = str.upper(name)\n",
    "print big_name, \"tiene\", length, \"caracteres\""
   ]
  },
  {
   "cell_type": "code",
   "execution_count": 9,
   "metadata": {
    "collapsed": true
   },
   "outputs": [],
   "source": [
    "names = [\"Ana\", \"Rosa\", \"Julia\"]"
   ]
  },
  {
   "cell_type": "code",
   "execution_count": 10,
   "metadata": {},
   "outputs": [
    {
     "data": {
      "text/plain": [
       "'Ana'"
      ]
     },
     "execution_count": 10,
     "metadata": {},
     "output_type": "execute_result"
    }
   ],
   "source": [
    "names[0]"
   ]
  },
  {
   "cell_type": "code",
   "execution_count": 11,
   "metadata": {},
   "outputs": [
    {
     "data": {
      "text/plain": [
       "'Rosa'"
      ]
     },
     "execution_count": 11,
     "metadata": {},
     "output_type": "execute_result"
    }
   ],
   "source": [
    "names[-2]"
   ]
  },
  {
   "cell_type": "code",
   "execution_count": 12,
   "metadata": {},
   "outputs": [
    {
     "data": {
      "text/plain": [
       "[0, 1, 2, 3, 4]"
      ]
     },
     "execution_count": 12,
     "metadata": {},
     "output_type": "execute_result"
    }
   ],
   "source": [
    "#uso de la funcion range\n",
    "range(5)"
   ]
  },
  {
   "cell_type": "code",
   "execution_count": 13,
   "metadata": {},
   "outputs": [
    {
     "data": {
      "text/plain": [
       "[5, 6, 7, 8, 9]"
      ]
     },
     "execution_count": 13,
     "metadata": {},
     "output_type": "execute_result"
    }
   ],
   "source": [
    "range(5,10)"
   ]
  },
  {
   "cell_type": "code",
   "execution_count": 14,
   "metadata": {},
   "outputs": [
    {
     "data": {
      "text/plain": [
       "[5, 8, 11, 14, 17]"
      ]
     },
     "execution_count": 14,
     "metadata": {},
     "output_type": "execute_result"
    }
   ],
   "source": [
    "range(5,20,3)"
   ]
  },
  {
   "cell_type": "code",
   "execution_count": 15,
   "metadata": {},
   "outputs": [
    {
     "name": "stdout",
     "output_type": "stream",
     "text": [
      "Your application is accepted.\n"
     ]
    }
   ],
   "source": [
    "#uso del condicional If\n",
    "gpa = 3.4\n",
    "if gpa > 2.0:\n",
    "    print \"Your application is accepted.\""
   ]
  },
  {
   "cell_type": "code",
   "execution_count": 16,
   "metadata": {},
   "outputs": [
    {
     "name": "stdout",
     "output_type": "stream",
     "text": [
      "Su solicitud de admision ha sido denegada.\n"
     ]
    }
   ],
   "source": [
    "# Uso  de if/else\n",
    "gpa = 1.4\n",
    "if gpa >= 2.5:\n",
    "    print \"Bienvenido al Colegio de Mayaguez!\"\n",
    "else:\n",
    "    print \"Su solicitud de admision ha sido denegada.\""
   ]
  },
  {
   "cell_type": "code",
   "execution_count": 17,
   "metadata": {},
   "outputs": [
    {
     "name": "stdout",
     "output_type": "stream",
     "text": [
      "Ana and Rosa\n"
     ]
    }
   ],
   "source": [
    "#Ejemplo con operadores logicos\n",
    "Ana=3\n",
    "Rosa=25\n",
    "if (Ana <= 5 and Rosa >= 10 or Rosa == 500 and Ana != 5):\n",
    "    print \"Ana and Rosa\""
   ]
  },
  {
   "cell_type": "code",
   "execution_count": 18,
   "metadata": {},
   "outputs": [
    {
     "name": "stdout",
     "output_type": "stream",
     "text": [
      "1 squared is 1\n",
      "2 squared is 4\n",
      "3 squared is 9\n"
     ]
    }
   ],
   "source": [
    "# Ejemplo de loop\n",
    "for x in range(1, 4):\n",
    "    print x, \"squared is\", x * x"
   ]
  },
  {
   "cell_type": "code",
   "execution_count": 19,
   "metadata": {},
   "outputs": [
    {
     "name": "stdout",
     "output_type": "stream",
     "text": [
      "Ana\n",
      "Rosa\n",
      "Julia\n"
     ]
    }
   ],
   "source": [
    "# Otro ejemplo de loop\n",
    "names = [\"Ana\", \"Rosa\", \"Julia\"]\n",
    "for name in names:\n",
    "    print name"
   ]
  },
  {
   "cell_type": "code",
   "execution_count": 20,
   "metadata": {
    "scrolled": true
   },
   "outputs": [
    {
     "name": "stdout",
     "output_type": "stream",
     "text": [
      "Checking 3\n",
      "The square is 9\n",
      "Checking 1\n",
      "Ignoring\n",
      "Checking 4\n",
      "The square is 16\n",
      "Checking 1\n",
      "Ignoring\n",
      "Checking 5\n",
      "The square is 25\n",
      "Checking 9\n",
      "Exiting for loop\n"
     ]
    }
   ],
   "source": [
    "# Ejemplo de break y continue\n",
    "for value in [3, 1, 4, 1, 5, 9, 2]:\n",
    "    print \"Checking\", value\n",
    "    if value > 8:\n",
    "        print \"Exiting for loop\"\n",
    "        break\n",
    "    elif value < 3:\n",
    "        print \"Ignoring\"\n",
    "        continue\n",
    "    print \"The square is\", value**2"
   ]
  },
  {
   "cell_type": "code",
   "execution_count": 21,
   "metadata": {},
   "outputs": [
    {
     "name": "stdout",
     "output_type": "stream",
     "text": [
      "1 2 4 8 16 32 64 128\n"
     ]
    }
   ],
   "source": [
    "number = 1\n",
    "while number < 200:\n",
    "    print number, \n",
    "    number = number * 2"
   ]
  }
 ],
 "metadata": {
  "kernelspec": {
   "display_name": "Python 2",
   "language": "python",
   "name": "python2"
  },
  "language_info": {
   "codemirror_mode": {
    "name": "ipython",
    "version": 2
   },
   "file_extension": ".py",
   "mimetype": "text/x-python",
   "name": "python",
   "nbconvert_exporter": "python",
   "pygments_lexer": "ipython2",
   "version": "2.7.13"
  }
 },
 "nbformat": 4,
 "nbformat_minor": 2
}
