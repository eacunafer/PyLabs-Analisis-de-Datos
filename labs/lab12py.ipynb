{
 "cells": [
  {
   "cell_type": "code",
   "execution_count": null,
   "metadata": {
    "collapsed": true,
    "slideshow": {
     "slide_type": "slide"
    }
   },
   "outputs": [],
   "source": [
    "## ESMA 3016\n",
    "## Edgar Acuna\n",
    "### Lab12: Distribuciones hipergeometrica, geometrica y binomial Negativa"
   ]
  },
  {
   "cell_type": "markdown",
   "metadata": {
    "collapsed": true,
    "slideshow": {
     "slide_type": "slide"
    }
   },
   "source": [
    "from scipy.stats import hypergeom,geom,nbinom\n",
    "import numpy as np\n",
    "import matplotlib.pyplot as plt\n",
    "%matplotlib inline"
   ]
  },
  {
   "cell_type": "markdown",
   "metadata": {
    "slideshow": {
     "slide_type": "slide"
    }
   },
   "source": [
    "#Ejemplo1: De un lote de 10 articulos de los cuales 6 son de buenos y 4 danados se extraen al azar y Sin Reposicion\n",
    "#5 de ellos.\n",
    "#a)Cual es la probabilidad de que hayan  exactamente 3 danados entre los extraidos?\n",
    "#b)Cual es la probabilidad de que A LO Mas 2 sean 2 danados? \n",
    "#c)Cual es la probabilidad de que haya al menos un danado entre los 5 extraidos?\n",
    "#Sol: Sea X: Número de articulos danados (exito) en la muestra de 5. X es una hipergeometrica com M=10 (tamano de la poblacion), \n",
    "# n=4 (elementos del tipo I en la poblacion) y k=5 (tamano de la muestras) \n",
    "hypergeom.pmf(3,10,4,5)"
   ]
  },
  {
   "cell_type": "code",
   "execution_count": 61,
   "metadata": {},
   "outputs": [
    {
     "data": {
      "text/plain": [
       "0.73809523809523769"
      ]
     },
     "execution_count": 61,
     "metadata": {},
     "output_type": "execute_result"
    }
   ],
   "source": [
    "hypergeom.cdf(2,10,4,5)"
   ]
  },
  {
   "cell_type": "code",
   "execution_count": 62,
   "metadata": {},
   "outputs": [
    {
     "data": {
      "text/plain": [
       "0.97619047619047628"
      ]
     },
     "execution_count": 62,
     "metadata": {},
     "output_type": "execute_result"
    }
   ],
   "source": [
    "1-hypergeom.cdf(0,10,4,5)"
   ]
  },
  {
   "cell_type": "code",
   "execution_count": 63,
   "metadata": {
    "collapsed": true
   },
   "outputs": [],
   "source": [
    "#Generando una muestra de 1000 valores de una hypergeometrica con N=10, n=4 y k=5 \n",
    "a=hypergeom.rvs(10,4,5,size=1000)"
   ]
  },
  {
   "cell_type": "code",
   "execution_count": 64,
   "metadata": {},
   "outputs": [
    {
     "data": {
      "text/plain": [
       "array([ 0.019,  0.233,  0.437,  0.287,  0.024])"
      ]
     },
     "execution_count": 64,
     "metadata": {},
     "output_type": "execute_result"
    }
   ],
   "source": [
    "#Hallando las frecuencias relativas de la muestra generada\n",
    "unique_elements, counts_elements = np.unique(a, return_counts=True)\n",
    "prob_sim=counts_elements/float(1000)\n",
    "prob_sim"
   ]
  },
  {
   "cell_type": "code",
   "execution_count": 65,
   "metadata": {},
   "outputs": [
    {
     "data": {
      "text/plain": [
       "<matplotlib.legend.Legend at 0xba79518>"
      ]
     },
     "execution_count": 65,
     "metadata": {},
     "output_type": "execute_result"
    },
    {
     "data": {
      "image/png": "[encoded data removed]",
      "text/plain": [
       "<matplotlib.figure.Figure at 0xb86e390>"
      ]
     },
     "metadata": {},
     "output_type": "display_data"
    }
   ],
   "source": [
    "#Plot para comparar las probabilidades exactas de una hypergeometrica con las probabilidades simuladas\n",
    "x=np.arange(0,5)\n",
    "fig, ax = plt.subplots(1, 1)\n",
    "ax.plot(x, hypergeom.pmf(x,10,4,5), 'bo', ms=5, label='hypergeom pmf')\n",
    "ax.vlines(x, 0, hypergeom.pmf(x, 10,4,5), colors='b', lw=3, alpha=0.5)\n",
    "ax.vlines(x, 0, prob_sim, colors='r', linestyles='-', lw=2,label='simulated pmf')\n",
    "ax.legend(loc='best', frameon=False)"
   ]
  },
  {
   "cell_type": "code",
   "execution_count": 66,
   "metadata": {},
   "outputs": [
    {
     "data": {
      "text/plain": [
       "1.9999999999999984"
      ]
     },
     "execution_count": 66,
     "metadata": {},
     "output_type": "execute_result"
    }
   ],
   "source": [
    "#Calculando la media de una hypergeometrica\n",
    "x=np.arange(0,5)\n",
    "mu=x*hypergeom.pmf(x,10,4,5)\n",
    "mu.sum()"
   ]
  },
  {
   "cell_type": "code",
   "execution_count": 67,
   "metadata": {
    "collapsed": true
   },
   "outputs": [],
   "source": [
    "#Ejemplo 2: Distribucion Geometrica\n",
    "#Si las extracciones en el ejemplo anterior fueran con reemplazo\n",
    "#a) Cual es la probabilidad de que el primer articulo danado salga en la tercera extraccion?\n",
    "#b) Cual es la probabilidad de que el primer articulo danado salga a lo mas en  5 extracciones?\n",
    "#c) Cual es la probabilidad de que el primer articulo danado salga despues de 4 extracciones?\n",
    "#Solucion: Sea X: el numero de buenos extraidos hasta que salga el primer danado. X es una geometrica con p=.4"
   ]
  },
  {
   "cell_type": "code",
   "execution_count": 68,
   "metadata": {},
   "outputs": [
    {
     "data": {
      "text/plain": [
       "0.14399999999999999"
      ]
     },
     "execution_count": 68,
     "metadata": {},
     "output_type": "execute_result"
    }
   ],
   "source": [
    "#a\n",
    "geom.pmf(3,.4)"
   ]
  },
  {
   "cell_type": "code",
   "execution_count": 69,
   "metadata": {},
   "outputs": [
    {
     "data": {
      "text/plain": [
       "0.92223999999999995"
      ]
     },
     "execution_count": 69,
     "metadata": {},
     "output_type": "execute_result"
    }
   ],
   "source": [
    "#b\n",
    "geom.cdf(5,.4)"
   ]
  },
  {
   "cell_type": "code",
   "execution_count": 70,
   "metadata": {},
   "outputs": [
    {
     "data": {
      "text/plain": [
       "0.12959999999999994"
      ]
     },
     "execution_count": 70,
     "metadata": {},
     "output_type": "execute_result"
    }
   ],
   "source": [
    "#c\n",
    "1-geom.cdf(4,.4)"
   ]
  },
  {
   "cell_type": "code",
   "execution_count": 71,
   "metadata": {},
   "outputs": [
    {
     "data": {
      "text/plain": [
       "array([ 0.404,  0.24 ,  0.152,  0.085,  0.046,  0.035,  0.015,  0.01 ,\n",
       "        0.006,  0.004,  0.001,  0.001,  0.001])"
      ]
     },
     "execution_count": 71,
     "metadata": {},
     "output_type": "execute_result"
    }
   ],
   "source": [
    "#Generando una muestra de 1000 valores de una geometrica con p=.4 \n",
    "a=geom.rvs(.4,size=1000)\n",
    "#Hallando las frecuencias relativas de la muestra generada\n",
    "unique_elements, counts_elements = np.unique(a, return_counts=True)\n",
    "prob_sim=counts_elements/float(1000)\n",
    "x=np.arange(1,11)\n",
    "prob_sim"
   ]
  },
  {
   "cell_type": "code",
   "execution_count": 72,
   "metadata": {},
   "outputs": [
    {
     "data": {
      "text/plain": [
       "<matplotlib.legend.Legend at 0xbcb2978>"
      ]
     },
     "execution_count": 72,
     "metadata": {},
     "output_type": "execute_result"
    },
    {
     "data": {
      "image/png": "[encoded data removed]",
      "text/plain": [
       "<matplotlib.figure.Figure at 0xbb2fa90>"
      ]
     },
     "metadata": {},
     "output_type": "display_data"
    }
   ],
   "source": [
    "#Comparacion de la probabilidad teorica con la frecuencia relativa de 1000 valores simulados del 1 al 10\n",
    "x=np.arange(1,11)\n",
    "fig, ax=plt.subplots(1,1)\n",
    "ax.plot(x, geom.pmf(x,.4), 'bo', ms=5, label='geom pmf')\n",
    "ax.vlines(x, 0, geom.pmf(x,4), colors='b',lw=3,alpha=0.5)\n",
    "ax.vlines(x, 0, prob_sim, colors='r', linestyles='-', lw=2,label='simulated pmf')\n",
    "ax.legend(loc='best', frameon=False)"
   ]
  },
  {
   "cell_type": "code",
   "execution_count": 73,
   "metadata": {},
   "outputs": [
    {
     "data": {
      "text/plain": [
       "2.4986898765589776"
      ]
     },
     "execution_count": 73,
     "metadata": {},
     "output_type": "execute_result"
    }
   ],
   "source": [
    "#valor esperado estimada de una geometrica (el valor exacto es 1/p=2.5)\n",
    "x=np.arange(1,20)\n",
    "mu=x*geom.pmf(x,.4)\n",
    "mu.sum()"
   ]
  },
  {
   "cell_type": "code",
   "execution_count": 74,
   "metadata": {
    "collapsed": true
   },
   "outputs": [],
   "source": [
    "#Ejemplo 3: Distribucion Binomial Negativa (tambien llamada Pascal)\n",
    "#Bajo las mismas condiciones del ejemplo 2\n",
    "#a) Cual es la probabilidad de que salgan dos articulos buenos antes de salir el tercer articulo danado?\n",
    "#b) Cual es la probabilidad de que salgan a lo mas  3 buenos antes de que salga el tercer articulo danado?\n",
    "#c) Cual es la probabilidad de que el tercer articulo danado salga despues de que salgan 5 buenos?\n",
    "#Solucion: Sea X: el numero de buenos extraidos hasta que salga el tercer danado. X es una binomial negativa con r=3 y p=.4"
   ]
  },
  {
   "cell_type": "code",
   "execution_count": 75,
   "metadata": {},
   "outputs": [
    {
     "data": {
      "text/plain": [
       "0.13824000000000003"
      ]
     },
     "execution_count": 75,
     "metadata": {},
     "output_type": "execute_result"
    }
   ],
   "source": [
    "#a\n",
    "nbinom.pmf(2,3,.4)"
   ]
  },
  {
   "cell_type": "code",
   "execution_count": 76,
   "metadata": {},
   "outputs": [
    {
     "data": {
      "text/plain": [
       "0.45568000000000008"
      ]
     },
     "execution_count": 76,
     "metadata": {},
     "output_type": "execute_result"
    }
   ],
   "source": [
    "#b\n",
    "nbinom.cdf(3,3,.4)"
   ]
  },
  {
   "cell_type": "code",
   "execution_count": 77,
   "metadata": {},
   "outputs": [
    {
     "data": {
      "text/plain": [
       "0.3153945600000001"
      ]
     },
     "execution_count": 77,
     "metadata": {},
     "output_type": "execute_result"
    }
   ],
   "source": [
    "#c\n",
    "1-nbinom.cdf(5,3,.4)"
   ]
  },
  {
   "cell_type": "code",
   "execution_count": 78,
   "metadata": {},
   "outputs": [
    {
     "data": {
      "text/plain": [
       "array([ 0.062,  0.109,  0.135,  0.124,  0.129,  0.125,  0.094,  0.077,\n",
       "        0.04 ,  0.037,  0.022,  0.012,  0.007,  0.008,  0.006,  0.001,\n",
       "        0.002,  0.004,  0.005,  0.001])"
      ]
     },
     "execution_count": 78,
     "metadata": {},
     "output_type": "execute_result"
    }
   ],
   "source": [
    "#Generando una muestra de 1000 valores de una binomial con p=.4 \n",
    "a=nbinom.rvs(3,.4,size=1000)\n",
    "#Hallando las frecuencias relativas de la muestra generada\n",
    "unique_elements, counts_elements = np.unique(a, return_counts=True)\n",
    "prob_sim=counts_elements/float(1000)\n",
    "prob_sim"
   ]
  },
  {
   "cell_type": "code",
   "execution_count": 79,
   "metadata": {
    "scrolled": false
   },
   "outputs": [
    {
     "data": {
      "text/plain": [
       "<matplotlib.legend.Legend at 0xbd4dd68>"
      ]
     },
     "execution_count": 79,
     "metadata": {},
     "output_type": "execute_result"
    },
    {
     "data": {
      "image/png": "[encoded data removed]",
      "text/plain": [
       "<matplotlib.figure.Figure at 0xbcf3278>"
      ]
     },
     "metadata": {},
     "output_type": "display_data"
    }
   ],
   "source": [
    "#Comparacion de la probabilidad teorica con la frecuencia relativa de 1000 valores simulados del 0 al 10\n",
    "x=np.arange(0,11)\n",
    "fig, ax=plt.subplots(1,1)\n",
    "ax.plot(x, nbinom.pmf(x,3,.4), 'bo', ms=5, label='nbinom pmf')\n",
    "ax.vlines(x,0,nbinom.pmf(x,3,.4), colors='b',lw=3,alpha=0.5)\n",
    "ax.vlines(x, 0, prob_sim, colors='r', linestyles='-', lw=2,label='simulated pmf')\n",
    "ax.legend(loc='best', frameon=False)"
   ]
  },
  {
   "cell_type": "code",
   "execution_count": 80,
   "metadata": {},
   "outputs": [
    {
     "data": {
      "text/plain": [
       "4.5"
      ]
     },
     "execution_count": 80,
     "metadata": {},
     "output_type": "execute_result"
    }
   ],
   "source": [
    "#valor esperado estimado de la Binomial Negativa con 3 danados y p=.4 (valor exacto es r*q/p=3*.6/.4=4.5)\n",
    "x=np.arange(0,100)\n",
    "mu=x*nbinom.pmf(x,3,.4)\n",
    "mu.sum()"
   ]
  },
  {
   "cell_type": "code",
   "execution_count": null,
   "metadata": {
    "collapsed": true
   },
   "outputs": [],
   "source": []
  }
 ],
 "metadata": {
  "celltoolbar": "Slideshow",
  "kernelspec": {
   "display_name": "Python 2",
   "language": "python",
   "name": "python2"
  },
  "language_info": {
   "codemirror_mode": {
    "name": "ipython",
    "version": 2
   },
   "file_extension": ".py",
   "mimetype": "text/x-python",
   "name": "python",
   "nbconvert_exporter": "python",
   "pygments_lexer": "ipython2",
   "version": "2.7.13"
  }
 },
 "nbformat": 4,
 "nbformat_minor": 2
}
