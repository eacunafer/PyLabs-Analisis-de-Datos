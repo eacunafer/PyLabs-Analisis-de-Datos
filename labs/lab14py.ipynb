{
 "cells": [
  {
   "cell_type": "markdown",
   "metadata": {},
   "source": [
    "### ESMA 3016\n",
    "### Edgar Acuna\n",
    "### Lab14: Distribuciones Continuas \n",
    "### Distribucion Uniforme y su aplicacion a simulacion. Distribucion Exponencial"
   ]
  },
  {
   "cell_type": "code",
   "execution_count": 1,
   "metadata": {
    "collapsed": true
   },
   "outputs": [],
   "source": [
    "from scipy.stats  import uniform,expon\n",
    "from scipy.integrate import quad\n",
    "import numpy as np\n",
    "import matplotlib.pyplot as plt\n",
    "%matplotlib inline"
   ]
  },
  {
   "cell_type": "code",
   "execution_count": 2,
   "metadata": {},
   "outputs": [
    {
     "data": {
      "text/plain": [
       "1.0"
      ]
     },
     "execution_count": 2,
     "metadata": {},
     "output_type": "execute_result"
    }
   ],
   "source": [
    "#El valor de la funcion de densidad uniforme (0,1) en el punto .1\n",
    "uniform.pdf(.1) "
   ]
  },
  {
   "cell_type": "code",
   "execution_count": 3,
   "metadata": {},
   "outputs": [
    {
     "data": {
      "text/plain": [
       "0.10000000000000001"
      ]
     },
     "execution_count": 3,
     "metadata": {},
     "output_type": "execute_result"
    }
   ],
   "source": [
    "#La probabilidad acumulada de la Uniforme (0,1) hasta .1\n",
    "uniform.cdf(.1)"
   ]
  },
  {
   "cell_type": "code",
   "execution_count": 4,
   "metadata": {},
   "outputs": [
    {
     "data": {
      "text/plain": [
       "0.099999999999999978"
      ]
     },
     "execution_count": 4,
     "metadata": {},
     "output_type": "execute_result"
    }
   ],
   "source": [
    "#La probabilidad de una Uniforme entre .4 y .5 es\n",
    "uniform.cdf(.5)-uniform.cdf(.4)"
   ]
  },
  {
   "cell_type": "code",
   "execution_count": 5,
   "metadata": {},
   "outputs": [
    {
     "data": {
      "text/plain": [
       "(array([ 1.06025553,  1.04125095,  0.9912389 ,  0.98323697,  1.0132442 ,\n",
       "         0.98323697,  0.96623287,  0.98623769,  0.99924082,  0.97823576]),\n",
       " array([  1.53004117e-04,   1.00128903e-01,   2.00104803e-01,\n",
       "          3.00080702e-01,   4.00056601e-01,   5.00032501e-01,\n",
       "          6.00008400e-01,   6.99984299e-01,   7.99960199e-01,\n",
       "          8.99936098e-01,   9.99911997e-01]),\n",
       " <a list of 10 Patch objects>)"
      ]
     },
     "execution_count": 5,
     "metadata": {},
     "output_type": "execute_result"
    },
    {
     "data": {
      "image/png": "[encoded data removed]",
      "text/plain": [
       "<matplotlib.figure.Figure at 0xb3f0eb8>"
      ]
     },
     "metadata": {},
     "output_type": "display_data"
    }
   ],
   "source": [
    "#Simulando 10,000 uniformes (0,1) y haciendo su histograma\n",
    "plt.hist(uniform.rvs(0,1,10000),normed=True)"
   ]
  },
  {
   "cell_type": "code",
   "execution_count": 6,
   "metadata": {},
   "outputs": [
    {
     "data": {
      "text/plain": [
       "0.125"
      ]
     },
     "execution_count": 6,
     "metadata": {},
     "output_type": "execute_result"
    }
   ],
   "source": [
    "#Distribucion Uniforme en un intervalo (a,b)=(2,10)\n",
    "#Hay que usar los parametros loc=a y scale=b-a\n",
    "#Hallando la funcion de densidad de la uniforme U(2,10) en el punto x=2.5\n",
    "uniform.pdf(2.5,loc=2,scale=8)"
   ]
  },
  {
   "cell_type": "code",
   "execution_count": 7,
   "metadata": {},
   "outputs": [
    {
     "data": {
      "text/plain": [
       "0.5"
      ]
     },
     "execution_count": 7,
     "metadata": {},
     "output_type": "execute_result"
    }
   ],
   "source": [
    "#Hallando la probabilidad acumulada de la U(2,10) hasta el valor x=6. O sea P(X<6)\n",
    "uniform.cdf(6,loc=2,scale=8)"
   ]
  },
  {
   "cell_type": "code",
   "execution_count": 8,
   "metadata": {},
   "outputs": [
    {
     "data": {
      "text/plain": [
       "9.1999999999999993"
      ]
     },
     "execution_count": 8,
     "metadata": {},
     "output_type": "execute_result"
    }
   ],
   "source": [
    "#Hallando el percentil correspondiente a una probabilidad de .9\n",
    "uniform.ppf(.9,loc=2,scale=8)"
   ]
  },
  {
   "cell_type": "code",
   "execution_count": 9,
   "metadata": {
    "collapsed": true
   },
   "outputs": [],
   "source": [
    "#**********************************************************\n",
    "#Generando al azar n valores de una bernoulli con parametro p\n",
    "#*********************************************************\n",
    "def bernoulli(p,m):\n",
    "    x=[0]*m\n",
    "    for i in range(m):\n",
    "        if uniform.rvs(0,1,1)<p:\n",
    "            x[i]=1 \n",
    "    return x"
   ]
  },
  {
   "cell_type": "code",
   "execution_count": 10,
   "metadata": {},
   "outputs": [
    {
     "data": {
      "text/plain": [
       "[0, 0, 0, 0, 1, 0, 0, 0, 0, 0]"
      ]
     },
     "execution_count": 10,
     "metadata": {},
     "output_type": "execute_result"
    }
   ],
   "source": [
    "bernoulli(.3,10)"
   ]
  },
  {
   "cell_type": "code",
   "execution_count": 11,
   "metadata": {
    "collapsed": true
   },
   "outputs": [],
   "source": [
    "#************************************************************\n",
    "#Generando al azar m valores de una binomial con parametros n y p\n",
    "#************************************************************\n",
    "#La suma de n Bernoulli's da una binomial(n,p)\n",
    "def rbinomial(p,n,m):\n",
    "    x=[0]*m\n",
    "    for i in range(m): \n",
    "        y=0\n",
    "        for j in range(n):\n",
    "            y+=sum(bernoulli(p,1))\n",
    "        x[i]=y    \n",
    "    return x"
   ]
  },
  {
   "cell_type": "code",
   "execution_count": 12,
   "metadata": {},
   "outputs": [
    {
     "data": {
      "text/plain": [
       "[3, 6, 4, 3, 3, 4, 3, 2, 2, 3]"
      ]
     },
     "execution_count": 12,
     "metadata": {},
     "output_type": "execute_result"
    }
   ],
   "source": [
    "rbinomial(.5,6,10)"
   ]
  },
  {
   "cell_type": "code",
   "execution_count": 13,
   "metadata": {
    "collapsed": true
   },
   "outputs": [],
   "source": [
    "#***************************************************************************\n",
    "#simulando una muestra de 200 tiempos de espera en un banco\n",
    "#se esta considerando que el tiempo de espera promedio es 10 minutos\n",
    "#los tiempos estan dados en minutos\n",
    "#******************************************************************************* \n",
    "tiempos=expon.rvs(scale=10,size=200)"
   ]
  },
  {
   "cell_type": "code",
   "execution_count": 14,
   "metadata": {
    "scrolled": false
   },
   "outputs": [
    {
     "data": {
      "text/plain": [
       "<matplotlib.legend.Legend at 0xbf75908>"
      ]
     },
     "execution_count": 14,
     "metadata": {},
     "output_type": "execute_result"
    },
    {
     "data": {
      "image/png": "[encoded data removed]",
      "text/plain": [
       "<matplotlib.figure.Figure at 0xbd1fa58>"
      ]
     },
     "metadata": {},
     "output_type": "display_data"
    }
   ],
   "source": [
    "#Generando un histograma de los datos pero de tal manera que el area total sea 1\n",
    "x=np.arange(0,100,.5)\n",
    "#Haciendo una comparacion grafica\n",
    "fig, ax = plt.subplots(1, 1)\n",
    "ax.hist(tiempos, normed = True,alpha=.7)\n",
    "ax.plot(x, expon.pdf(x,scale=10), 'k-', lw=1, label='densidad exponencial')\n",
    "ax.legend(loc='best', frameon=False)"
   ]
  },
  {
   "cell_type": "code",
   "execution_count": 15,
   "metadata": {},
   "outputs": [
    {
     "data": {
      "text/plain": [
       "(0.22313016014842987, 2.2730397098404664e-10)"
      ]
     },
     "execution_count": 15,
     "metadata": {},
     "output_type": "execute_result"
    }
   ],
   "source": [
    "#Cual es la probabilidad de que se tenga que esperar mas de 15 minutos para ser atendido?\n",
    "#Area bajo la curva mas alla de 15\n",
    "def integrando(x):\n",
    "    return np.exp(-x/10)/10\n",
    "quad(integrando,15,np.Inf)"
   ]
  },
  {
   "cell_type": "markdown",
   "metadata": {},
   "source": [
    "#### El primer valor es el resultado de la integral y el segundo es el error del resultado"
   ]
  },
  {
   "cell_type": "code",
   "execution_count": 16,
   "metadata": {},
   "outputs": [
    {
     "data": {
      "text/plain": [
       "0.22313016014842979"
      ]
     },
     "execution_count": 16,
     "metadata": {},
     "output_type": "execute_result"
    }
   ],
   "source": [
    "#Cual es la probabilidad de que se tenga que esperar mas de 15 minutos para ser atendido?\n",
    "#Area bajo la curva mas alla de 15\n",
    "#Haciendolo por complemento=1-area hasta 15 y usando la densidad exponencial\n",
    "1-expon.cdf(15,scale=10)"
   ]
  },
  {
   "cell_type": "code",
   "execution_count": 17,
   "metadata": {},
   "outputs": [
    {
     "data": {
      "text/plain": [
       "0.15"
      ]
     },
     "execution_count": 17,
     "metadata": {},
     "output_type": "execute_result"
    }
   ],
   "source": [
    "#Estimando la probabilidad\n",
    "probest=len(tiempos[tiempos>15])/float(200)\n",
    "probest"
   ]
  },
  {
   "cell_type": "code",
   "execution_count": null,
   "metadata": {
    "collapsed": true
   },
   "outputs": [],
   "source": []
  }
 ],
 "metadata": {
  "kernelspec": {
   "display_name": "Python 2",
   "language": "python",
   "name": "python2"
  },
  "language_info": {
   "codemirror_mode": {
    "name": "ipython",
    "version": 2
   },
   "file_extension": ".py",
   "mimetype": "text/x-python",
   "name": "python",
   "nbconvert_exporter": "python",
   "pygments_lexer": "ipython2",
   "version": "2.7.13"
  }
 },
 "nbformat": 4,
 "nbformat_minor": 2
}
