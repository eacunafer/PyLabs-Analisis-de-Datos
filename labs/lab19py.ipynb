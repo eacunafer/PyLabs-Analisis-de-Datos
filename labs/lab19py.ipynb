{
 "cells": [
  {
   "cell_type": "markdown",
   "metadata": {},
   "source": [
    "### ESMA 3016\n",
    "### Edgar Acuna\n",
    "### Lab19: Inferencia para la media de una poblacion Normal (varianza conocida)"
   ]
  },
  {
   "cell_type": "code",
   "execution_count": 1,
   "metadata": {
    "collapsed": true
   },
   "outputs": [],
   "source": [
    "from scipy.stats  import norm,t\n",
    "import numpy as np\n",
    "import matplotlib.pyplot as plt\n",
    "from math import sqrt,factorial,pi\n",
    "%matplotlib inline"
   ]
  },
  {
   "cell_type": "code",
   "execution_count": 2,
   "metadata": {
    "collapsed": true,
    "scrolled": false
   },
   "outputs": [],
   "source": [
    "#Intervalo de confianza para la media\n",
    "#Ejemplo: Intervalo de confianza para la media poblacional del colesterol de todos\n",
    "# los pacientes con problemas cardiacos asumiendo que su distribucion es  normal\n",
    "#La varianza (o desviacion estandar) debe ser conocida. En este caso se asume que \n",
    "#la desviacion estandar (sigma) es 13. Se usa la muestra de 20 pacientes\n",
    "colest=[217,223,225,245,238,216,217,226,202,233,235,242,219,221,234,199,236,248,218,224] "
   ]
  },
  {
   "cell_type": "code",
   "execution_count": 3,
   "metadata": {
    "collapsed": true
   },
   "outputs": [],
   "source": [
    "# Esta es una funcion que hace el intervalo de confianza\n",
    "def IC_media(data, sigma, confianza=0.95):\n",
    "    a = 1.0*np.array(data)\n",
    "    n = len(a)\n",
    "    m, se = np.mean(a), sigma/sqrt(n)\n",
    "    h = se * norm.ppf((1+confianza)/2)\n",
    "    print \"El intervalo de confianza es:\", m-h, m+h\n",
    "    return"
   ]
  },
  {
   "cell_type": "code",
   "execution_count": 4,
   "metadata": {},
   "outputs": [
    {
     "name": "stdout",
     "output_type": "stream",
     "text": [
      "El intervalo de confianza es: 221.11859412 230.68140588\n"
     ]
    }
   ],
   "source": [
    "IC_media(colest,13,.90)"
   ]
  },
  {
   "cell_type": "code",
   "execution_count": 5,
   "metadata": {},
   "outputs": [
    {
     "data": {
      "text/plain": [
       "(221.11859412022926, 230.68140587977075)"
      ]
     },
     "execution_count": 5,
     "metadata": {},
     "output_type": "execute_result"
    }
   ],
   "source": [
    "#Hallando el IC usando el comando norm.interval\n",
    "norm.interval(.90,loc=np.mean(colest),scale=13/sqrt(20))"
   ]
  },
  {
   "cell_type": "code",
   "execution_count": 6,
   "metadata": {
    "collapsed": true
   },
   "outputs": [],
   "source": [
    "# Haciendo una funcion que halle p-value de la prueba estadistica de Z\n",
    "def ztest(data,mu_0,sigma,alternativa=\"no igual a\"):\n",
    "    #Esta funcion calcula el p-value de la prueba z\n",
    "    a = 1.0*np.array(data)\n",
    "    n = len(a)\n",
    "    m, se = np.mean(a), sigma/sqrt(n)\n",
    "    test=(m-mu_0)/se\n",
    "    if alternativa==\"mayor que\":\n",
    "        p_value=1-norm.cdf(test)\n",
    "    elif alternativa==\"menor que\":\n",
    "        p_value=norm.cdf(test)\n",
    "    else:\n",
    "        p_value=2*(1-norm.cdf(abs(test)))\n",
    "    print \"El p-values es:\", p_value    \n",
    "    return"
   ]
  },
  {
   "cell_type": "code",
   "execution_count": 7,
   "metadata": {},
   "outputs": [
    {
     "name": "stdout",
     "output_type": "stream",
     "text": [
      "El p-values es: 0.0211954691385\n"
     ]
    }
   ],
   "source": [
    "#Probando la hipotesis nula Ho: mu=220 versus Ha: mu>220.\n",
    "ztest(colest,220,13,alternativa=\"mayor que\")"
   ]
  },
  {
   "cell_type": "markdown",
   "metadata": {},
   "source": [
    "### Conclusion: Como el P-value es menor que .05 se rechaza la hipotesis nula y se concluye que el\n",
    "### colesterol promedio de todas las personas con problemas cardiacos es mayor que 220 "
   ]
  },
  {
   "cell_type": "code",
   "execution_count": 8,
   "metadata": {},
   "outputs": [
    {
     "name": "stdout",
     "output_type": "stream",
     "text": [
      "El p-values es: 0.042390938277\n"
     ]
    }
   ],
   "source": [
    "#Probando la hipotesis nula Ho: mu=220 versus Ha: mu!=220.\n",
    "ztest(colest,220,13)"
   ]
  },
  {
   "cell_type": "code",
   "execution_count": null,
   "metadata": {
    "collapsed": true
   },
   "outputs": [],
   "source": []
  }
 ],
 "metadata": {
  "kernelspec": {
   "display_name": "Python 2",
   "language": "python",
   "name": "python2"
  },
  "language_info": {
   "codemirror_mode": {
    "name": "ipython",
    "version": 2
   },
   "file_extension": ".py",
   "mimetype": "text/x-python",
   "name": "python",
   "nbconvert_exporter": "python",
   "pygments_lexer": "ipython2",
   "version": "2.7.13"
  }
 },
 "nbformat": 4,
 "nbformat_minor": 2
}
