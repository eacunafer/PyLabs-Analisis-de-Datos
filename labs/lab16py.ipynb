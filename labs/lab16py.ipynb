{
 "cells": [
  {
   "cell_type": "markdown",
   "metadata": {},
   "source": [
    "### ESMA 3016\n",
    "### Edgar Acuna\n",
    "### Lab16: Aproximacion Normal a la Binomial (Moivre, 1733)"
   ]
  },
  {
   "cell_type": "code",
   "execution_count": 2,
   "metadata": {
    "collapsed": true
   },
   "outputs": [],
   "source": [
    "from scipy.stats  import binom,norm\n",
    "import numpy as np\n",
    "import matplotlib.pyplot as plt\n",
    "from math import sqrt,factorial,pi\n",
    "%matplotlib inline"
   ]
  },
  {
   "cell_type": "code",
   "execution_count": 3,
   "metadata": {},
   "outputs": [
    {
     "data": {
      "text/plain": [
       "0.11439673970486092"
      ]
     },
     "execution_count": 3,
     "metadata": {},
     "output_type": "execute_result"
    }
   ],
   "source": [
    "#Si X es binomial(n.p) entonces Z=(X-np)/sqrt(npq) is N(0,1) cuando n es grande\n",
    "#Como X es discreta y Z es continua se aplica un factor de correccion por continuidad de .5\n",
    "#Asi P[X=k]~P[k-.5<X<k+.5]~P[(k-.5-np)/sqrt(npq)<Z<(k+.5-np)/sqrt(npq)]\n",
    "#Ejemplo 1. con n=20 y p=.3 y k=8), np=6 y npq=4.2\n",
    "p_exacta=binom.pmf(8,20,.3)\n",
    "p_exacta"
   ]
  },
  {
   "cell_type": "code",
   "execution_count": 4,
   "metadata": {},
   "outputs": [
    {
     "data": {
      "text/plain": [
       "0.12085104152256032"
      ]
     },
     "execution_count": 4,
     "metadata": {},
     "output_type": "execute_result"
    }
   ],
   "source": [
    "#Estandararizando\n",
    "p_aprox1=norm.cdf(2.5/sqrt(4.2))-norm.cdf(1.5/sqrt(4.2))\n",
    "p_aprox1"
   ]
  },
  {
   "cell_type": "code",
   "execution_count": 5,
   "metadata": {},
   "outputs": [
    {
     "data": {
      "text/plain": [
       "0.12085104152256032"
      ]
     },
     "execution_count": 5,
     "metadata": {},
     "output_type": "execute_result"
    }
   ],
   "source": [
    "#Sin estandarizar\n",
    "p_aprox2=norm.cdf(8.5,6,sqrt(4.2))-norm.cdf(7.5,6,sqrt(4.2))\n",
    "p_aprox2"
   ]
  },
  {
   "cell_type": "code",
   "execution_count": 7,
   "metadata": {},
   "outputs": [
    {
     "name": "stdout",
     "output_type": "stream",
     "text": [
      "0.0478111801034 0.0483771153675\n"
     ]
    }
   ],
   "source": [
    "#Ejemplo 2. con n=100 y p=.4 y k=45, np=40 y npq=24\n",
    "p_exacta=binom.pmf(45,100,.4)\n",
    "p_aprox=norm.cdf(5.5/sqrt(24))-norm.cdf(4.5/sqrt(24))\n",
    "print p_exacta, p_aprox"
   ]
  },
  {
   "cell_type": "code",
   "execution_count": 8,
   "metadata": {},
   "outputs": [
    {
     "name": "stdout",
     "output_type": "stream",
     "text": [
      "0.0100075048858 0.0101953827905\n"
     ]
    }
   ],
   "source": [
    "#Ejemplo 3. con n=100 y p=.4 y k=30, np=40 y npq=24\n",
    "p_exacta=binom.pmf(30,100,.4)\n",
    "p_aprox=norm.cdf(-9.5/sqrt(24))-norm.cdf(-10.5/sqrt(24))\n",
    "print p_exacta, p_aprox"
   ]
  },
  {
   "cell_type": "code",
   "execution_count": 9,
   "metadata": {},
   "outputs": [
    {
     "name": "stdout",
     "output_type": "stream",
     "text": [
      "0.178907817409 0.178384946862\n"
     ]
    }
   ],
   "source": [
    "#otras formulas:\n",
    "#P[a<=X<=b]~P[(a-.5-np)/sqrt(npq)<Z<(b+.5-np)/sqrt(npq)]=F[(b+.5-np)/sqrt(npq)]-F[(a-.5-np)/sqrt(npq)]\n",
    "#Ejemplo 4. con n=100 y p=.4, calcular P(25<=X<=35)\n",
    "p_exacta=binom.cdf(35,100,.4)-binom.cdf(24,100,.4)\n",
    "p_aprox=norm.cdf(-4.5/sqrt(24))-norm.cdf(-15.5/sqrt(24))\n",
    "print p_exacta, p_aprox"
   ]
  },
  {
   "cell_type": "code",
   "execution_count": 13,
   "metadata": {},
   "outputs": [
    {
     "data": {
      "text/plain": [
       "<matplotlib.legend.Legend at 0x9795978>"
      ]
     },
     "execution_count": 13,
     "metadata": {},
     "output_type": "execute_result"
    },
    {
     "data": {
      "image/png": "[encoded data removed]",
      "text/plain": [
       "<matplotlib.figure.Figure at 0x96e16d8>"
      ]
     },
     "metadata": {},
     "output_type": "display_data"
    }
   ],
   "source": [
    "#Trazando las probabilidades binomiales y la curva normal que aproxima las probabilidades\n",
    "#Teorema de Moivre\n",
    "x=np.arange(0,100,1)\n",
    "fig, ax = plt.subplots(1, 1)\n",
    "ax.vlines(x, 0, binom.pmf(x,100,.4), colors='b', lw=2, alpha=0.5, label='Distribucion Binomial')\n",
    "ax.plot(x, norm.pdf(x,40,sqrt(24)), 'k-', lw=1, label='Densidad Gaussiana')\n",
    "ax.legend(loc='best', frameon=False)"
   ]
  },
  {
   "cell_type": "code",
   "execution_count": 14,
   "metadata": {},
   "outputs": [
    {
     "name": "stdout",
     "output_type": "stream",
     "text": [
      "0.999957533613 0.999977721455\n"
     ]
    }
   ],
   "source": [
    "#Teorema de Moivre pero usando proporciones, phat=X/n, proporcion de eventos en una muestra \n",
    "#de tamano n, \n",
    "#phat es un numero entre 0 y 1.\n",
    "#Z=(phat-p)/sqrt(pq/n) es aproximadamnte N(0,1), la probabilidad p es conocida\n",
    "#Formula Prob(phat<po)=P(Z<(po-p)/sqrt(pq/n))\n",
    "#Ejemplo 4. Cual es la probabilidad estimada de que en una muestra de tamano 100, la proporcion \n",
    "#de  eventos sea menor de .6\n",
    "# si se sabe que en la probabilidad de ocurrencia p es .4\n",
    "p_aprox=norm.cdf(.6,.4,sqrt(.0024))\n",
    "#La probabiidad exacta es\n",
    "p_exacta=binom.cdf(59,100,.4)\n",
    "print p_exacta, p_aprox"
   ]
  },
  {
   "cell_type": "code",
   "execution_count": null,
   "metadata": {
    "collapsed": true
   },
   "outputs": [],
   "source": []
  }
 ],
 "metadata": {
  "kernelspec": {
   "display_name": "Python 2",
   "language": "python",
   "name": "python2"
  },
  "language_info": {
   "codemirror_mode": {
    "name": "ipython",
    "version": 2
   },
   "file_extension": ".py",
   "mimetype": "text/x-python",
   "name": "python",
   "nbconvert_exporter": "python",
   "pygments_lexer": "ipython2",
   "version": "2.7.13"
  }
 },
 "nbformat": 4,
 "nbformat_minor": 2
}
