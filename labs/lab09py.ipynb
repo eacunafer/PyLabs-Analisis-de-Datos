{
 "cells": [
  {
   "cell_type": "markdown",
   "metadata": {},
   "source": [
    "## ESMA 3016\n",
    "### Edgar Acuna\n",
    "### Calculo de Probabilidades usando simulacion\n",
    "Uso de las librerias numpy, pandas y random"
   ]
  },
  {
   "cell_type": "code",
   "execution_count": 1,
   "metadata": {
    "collapsed": true
   },
   "outputs": [],
   "source": [
    "import numpy as np\n",
    "import pandas as pd\n",
    "import random as rd"
   ]
  },
  {
   "cell_type": "code",
   "execution_count": 2,
   "metadata": {},
   "outputs": [
    {
     "data": {
      "text/plain": [
       "0.19066183766896538"
      ]
     },
     "execution_count": 2,
     "metadata": {},
     "output_type": "execute_result"
    }
   ],
   "source": [
    "#Seleccionando al azar un numero entre 0 y 1\n",
    "rd.random()"
   ]
  },
  {
   "cell_type": "code",
   "execution_count": 3,
   "metadata": {},
   "outputs": [
    {
     "data": {
      "text/plain": [
       "[41, 88, 21, 84, 58, 91, 70, 27, 93, 24]"
      ]
     },
     "execution_count": 3,
     "metadata": {},
     "output_type": "execute_result"
    }
   ],
   "source": [
    "#Seleccionando al azar una muestra de tamano 10 entre los numeros del 0 a 99\n",
    "rd.sample(range(0,100),10)"
   ]
  },
  {
   "cell_type": "code",
   "execution_count": 4,
   "metadata": {
    "collapsed": true
   },
   "outputs": [],
   "source": [
    "#Prob1. Juan y Luis toman un ascensor en el estacionamiento de\n",
    "#un edificio que tiene 6 pisos. Si ellos se bajan al azar en alguno\n",
    "# de los pisos (el del estacionamiento es piso CERO),.\n",
    "#Estimar la probabilidad de que ellos se bajen en pisos distintos. \n",
    "#La solucion exacta es 30/36=5/6=.8333"
   ]
  },
  {
   "cell_type": "code",
   "execution_count": 5,
   "metadata": {},
   "outputs": [
    {
     "data": {
      "text/plain": [
       "array([1, 6, 2, 5, 6, 6, 6, 2, 2, 6, 2, 4, 3, 4, 5, 1, 3, 1, 3, 4, 2, 6, 6,\n",
       "       4, 1, 4, 5, 1, 3, 2, 5, 1, 2, 1, 2, 1, 4, 6, 2, 1, 2, 4, 1, 2, 1, 2,\n",
       "       3, 1, 4, 5, 1, 5, 1, 6, 6, 5, 3, 5, 5, 1, 5, 3, 1, 3, 1, 2, 5, 2, 2,\n",
       "       3, 2, 6, 3, 2, 3, 2, 5, 6, 6, 5, 6, 6, 2, 6, 5, 2, 6, 6, 3, 3, 6, 3,\n",
       "       4, 1, 6, 3, 2, 3, 2, 6])"
      ]
     },
     "execution_count": 5,
     "metadata": {},
     "output_type": "execute_result"
    }
   ],
   "source": [
    "#Simulando 100 veces el piso en que se baja Juan\n",
    "juan=np.random.choice(range(1,7),100)\n",
    "juan"
   ]
  },
  {
   "cell_type": "code",
   "execution_count": 6,
   "metadata": {
    "collapsed": true
   },
   "outputs": [],
   "source": [
    "#Simulando 100 veces el piso en que se baja Luis\n",
    "luis=np.random.choice(range(1,7),100)"
   ]
  },
  {
   "cell_type": "code",
   "execution_count": 7,
   "metadata": {},
   "outputs": [
    {
     "data": {
      "text/plain": [
       "75"
      ]
     },
     "execution_count": 7,
     "metadata": {},
     "output_type": "execute_result"
    }
   ],
   "source": [
    "#Encontrando la cantidad de veces que ellos se bajana en distinto piso\n",
    "np.sum(juan!=luis)"
   ]
  },
  {
   "cell_type": "code",
   "execution_count": 8,
   "metadata": {
    "collapsed": true
   },
   "outputs": [],
   "source": [
    "#Haciendo una funcion que estime la probabilidad del evento basado en k simulaciones\n",
    "def pest1(k):\n",
    "    juan=np.random.choice(range(1,7),k)\n",
    "    luis=np.random.choice(range(1,7),k)\n",
    "    return np.sum(juan!=luis)/float(k)"
   ]
  },
  {
   "cell_type": "code",
   "execution_count": 9,
   "metadata": {},
   "outputs": [
    {
     "data": {
      "text/plain": [
       "0.82799999999999996"
      ]
     },
     "execution_count": 9,
     "metadata": {},
     "output_type": "execute_result"
    }
   ],
   "source": [
    "pest1(1000)"
   ]
  },
  {
   "cell_type": "code",
   "execution_count": 10,
   "metadata": {},
   "outputs": [
    {
     "data": {
      "text/plain": [
       "0.83226"
      ]
     },
     "execution_count": 10,
     "metadata": {},
     "output_type": "execute_result"
    }
   ],
   "source": [
    "pest1(100000)"
   ]
  },
  {
   "cell_type": "code",
   "execution_count": 11,
   "metadata": {
    "collapsed": true
   },
   "outputs": [],
   "source": [
    "#Prob 2. Se extraen tres bolas con REEMPLAZO de una caja que tiene 10 bolas \n",
    "#numeradas del 1 al 10\n",
    "#Cual es la probabilidad de que el mayor de los tres numeros extraidos sea 6.\n",
    "#La contestacion exacta es 91/1000=.091."
   ]
  },
  {
   "cell_type": "code",
   "execution_count": 12,
   "metadata": {
    "collapsed": true
   },
   "outputs": [],
   "source": [
    "#Eligiendo las tres bolas al azar 10000 veces\n",
    "b1=np.random.choice(range(1,11),10000)\n",
    "b2=np.random.choice(range(1,11),10000)\n",
    "b3=np.random.choice(range(1,11),10000)"
   ]
  },
  {
   "cell_type": "code",
   "execution_count": 13,
   "metadata": {
    "collapsed": true
   },
   "outputs": [],
   "source": [
    "#Formando un data frame de los resultados\n",
    "data=[b1,b2,b3]\n",
    "df=pd.DataFrame(data,index=['b1','b2','b3'])\n",
    "#hallando el maximo de cada fila\n",
    "m=df.max(axis=0)"
   ]
  },
  {
   "cell_type": "code",
   "execution_count": 14,
   "metadata": {},
   "outputs": [
    {
     "data": {
      "text/plain": [
       "896"
      ]
     },
     "execution_count": 14,
     "metadata": {},
     "output_type": "execute_result"
    }
   ],
   "source": [
    "(m==6).sum()"
   ]
  },
  {
   "cell_type": "code",
   "execution_count": 15,
   "metadata": {
    "collapsed": true
   },
   "outputs": [],
   "source": [
    "#Haciendo una funcion para estimar la probabilidad de que el mayo valor extraido sea\n",
    "#igual aun valor dado usando k simulaciones\n",
    "def pest2(valor,k):\n",
    "    import numpy as np\n",
    "    import pandas as pd\n",
    "    b1=np.random.choice(range(1,11),k)\n",
    "    b2=np.random.choice(range(1,11),k)\n",
    "    b3=np.random.choice(range(1,11),k)\n",
    "    data=[b1,b2,b3]\n",
    "    df=pd.DataFrame(data,index=['b1','b2','b3'])\n",
    "    m=df.max(axis=0)\n",
    "    return (m==valor).sum()/float(k)"
   ]
  },
  {
   "cell_type": "code",
   "execution_count": 16,
   "metadata": {},
   "outputs": [
    {
     "data": {
      "text/plain": [
       "0.050000000000000003"
      ]
     },
     "execution_count": 16,
     "metadata": {},
     "output_type": "execute_result"
    }
   ],
   "source": [
    "pest2(6,100)"
   ]
  },
  {
   "cell_type": "code",
   "execution_count": 17,
   "metadata": {},
   "outputs": [
    {
     "data": {
      "text/plain": [
       "0.099000000000000005"
      ]
     },
     "execution_count": 17,
     "metadata": {},
     "output_type": "execute_result"
    }
   ],
   "source": [
    "pest2(6,1000)"
   ]
  },
  {
   "cell_type": "code",
   "execution_count": 18,
   "metadata": {
    "scrolled": true
   },
   "outputs": [
    {
     "data": {
      "text/plain": [
       "0.083900000000000002"
      ]
     },
     "execution_count": 18,
     "metadata": {},
     "output_type": "execute_result"
    }
   ],
   "source": [
    "pest2(6,10000)"
   ]
  },
  {
   "cell_type": "code",
   "execution_count": null,
   "metadata": {
    "collapsed": true
   },
   "outputs": [],
   "source": []
  }
 ],
 "metadata": {
  "kernelspec": {
   "display_name": "Python 2",
   "language": "python",
   "name": "python2"
  },
  "language_info": {
   "codemirror_mode": {
    "name": "ipython",
    "version": 2
   },
   "file_extension": ".py",
   "mimetype": "text/x-python",
   "name": "python",
   "nbconvert_exporter": "python",
   "pygments_lexer": "ipython2",
   "version": "2.7.13"
  }
 },
 "nbformat": 4,
 "nbformat_minor": 2
}
