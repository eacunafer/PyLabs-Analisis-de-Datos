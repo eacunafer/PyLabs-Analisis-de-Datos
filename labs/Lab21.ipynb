{
 "cells": [
  {
   "cell_type": "markdown",
   "metadata": {},
   "source": [
    "### ESMA 3016\n",
    "### Edgar Acuna\n",
    "### Lab21: Uso del modulo statsmodels para Inferencia.  Prueba z para  proporciones. "
   ]
  },
  {
   "cell_type": "code",
   "execution_count": 32,
   "metadata": {
    "collapsed": true
   },
   "outputs": [],
   "source": [
    "import numpy as np\n",
    "import statsmodels.api as sm\n",
    "import statsmodels.stats.api as sms\n",
    "import statsmodels.formula.api as smf\n",
    "from statsmodels.stats.proportion import proportions_ztest\n",
    "import matplotlib.pyplot as plt\n",
    "%matplotlib inline"
   ]
  },
  {
   "cell_type": "code",
   "execution_count": 33,
   "metadata": {},
   "outputs": [
    {
     "data": {
      "text/plain": [
       "(221.08387591282869, 230.71612408717132)"
      ]
     },
     "execution_count": 33,
     "metadata": {},
     "output_type": "execute_result"
    }
   ],
   "source": [
    "#Intervalo de confianza para la media\n",
    "#Ejemplo: Intervalo de confianza para la media poblacional del colesterol de todos\n",
    "# los pacientes con problemas cardiacos asumiendo que su distribucion es  normal\n",
    "#La varianza (o desviacion estandar) debe ser conocida. En este caso se asume que \n",
    "#la desviacion estandar (sigma) es 13. Se usa la muestra de 20 pacientes\n",
    "colest=[217,223,225,245,238,216,217,226,202,233,235,242,219,221,234,199,236,248,218,224] \n",
    "sm.stats.zconfint(colest,alpha=.10)"
   ]
  },
  {
   "cell_type": "code",
   "execution_count": 34,
   "metadata": {},
   "outputs": [
    {
     "data": {
      "text/plain": [
       "(2.0150303902808271, 0.021950732457882954)"
      ]
     },
     "execution_count": 34,
     "metadata": {},
     "output_type": "execute_result"
    }
   ],
   "source": [
    "#prueba de hipotesis\n",
    "sm.stats.ztest(colest, x2=None, value=220, alternative='larger', usevar='pooled', ddof=1.0)"
   ]
  },
  {
   "cell_type": "markdown",
   "metadata": {},
   "source": [
    "#### $H_o: \\mu=220$\n",
    "#### $H_a: \\mu>220$"
   ]
  },
  {
   "cell_type": "code",
   "execution_count": 35,
   "metadata": {
    "collapsed": true
   },
   "outputs": [],
   "source": [
    "#Caso 2: Poblacion Normal y varianza (sigma^2) desconocida,muestra pequena#Intervalo de confianza para la media\n",
    "#La media muestral xbarra es un estimador de la media pobacional mu\n",
    "#Intervalo de confianza para mu del 100(1-alfa)%, alfa es el nivel de significacion\n",
    "#xbar-t(alfa/2,n-1)*s/sqrt(n),xbarra+t(alfa/2,n-1)*s/sqrt(n)\n",
    "#Ejemplo 1: Hallar el intervalo de confianza del 95% para el promedio de todos los graduandos\n",
    "#basado en la siguiente muestra de 14 graduandos\n",
    "#Asumir que la poblacion es normal \n",
    "gpa=[3.15,2.80,2.56,3.17,3.73,2.77,3.18,3.12,3.33,2.99,2.71,2.83,3.45,3.55]"
   ]
  },
  {
   "cell_type": "code",
   "execution_count": 36,
   "metadata": {},
   "outputs": [
    {
     "data": {
      "text/plain": [
       "(2.8985215652074281, 3.2929070062211441)"
      ]
     },
     "execution_count": 36,
     "metadata": {},
     "output_type": "execute_result"
    }
   ],
   "source": [
    "sms.DescrStatsW(gpa).tconfint_mean()"
   ]
  },
  {
   "cell_type": "code",
   "execution_count": 37,
   "metadata": {
    "collapsed": true
   },
   "outputs": [],
   "source": [
    "#Ejemplo 7.5. Los tiempos de sobrevivencia (en años) de 12 personas que se han sometido a un transplante de\n",
    "#corazón son los siguientes:\n",
    "surv=[3.1,.9,2.8,4.3,.6,1.4,5.8,9.9,6.3,10.4,0,11.5]"
   ]
  },
  {
   "cell_type": "code",
   "execution_count": 38,
   "metadata": {},
   "outputs": [
    {
     "data": {
      "text/plain": [
       "(1.122494220344997, 8.3775057796550048)"
      ]
     },
     "execution_count": 38,
     "metadata": {},
     "output_type": "execute_result"
    }
   ],
   "source": [
    "#Hallar un intervalo de confianza del 99 por ciento para el promedio de vida\n",
    "#de todas las personas que se han sometido a un transplante de corazón.\n",
    "sms.DescrStatsW(surv).tconfint_mean(alpha=.01)"
   ]
  },
  {
   "cell_type": "code",
   "execution_count": 39,
   "metadata": {},
   "outputs": [
    {
     "data": {
      "text/plain": [
       "(0.64213678114039097, 0.26696901006689233, 11.0)"
      ]
     },
     "execution_count": 39,
     "metadata": {},
     "output_type": "execute_result"
    }
   ],
   "source": [
    "#Probar la hipotesis de que el tiempo de sobrevivencia promedio es mas de 4\n",
    "sms.DescrStatsW(surv).ttest_mean(4,\"larger\")   "
   ]
  },
  {
   "cell_type": "markdown",
   "metadata": {},
   "source": [
    "#### El valor de la prueba estadistica es  0.64\n",
    "#### El p-value es 0.2669\n",
    "#### Los grado de libertad de la prueba t son 11"
   ]
  },
  {
   "cell_type": "code",
   "execution_count": 67,
   "metadata": {},
   "outputs": [
    {
     "data": {
      "text/plain": [
       "(-0.70287005517582912, 0.48213673413505531)"
      ]
     },
     "execution_count": 67,
     "metadata": {},
     "output_type": "execute_result"
    }
   ],
   "source": [
    "#Ejemplo 7.7. En 1990 en un cierto país, se reportó que dos de cada 5 personas pensaban que\n",
    "#debería incrementarse el poder nuclear.  En una encuesta reciente hecha en\n",
    "#1996 a  1225 personas se encontró que 478 de ellos pensaban que se debería\n",
    "#aumentar el poder nuclear.  ¿Piensa Ud. que hay evidencia de que\n",
    "#la opinión de la gente en 1996 ha cambiado con respecto a 1990? Justificar su contestación.\n",
    "proportions_ztest(478,1225,.4)"
   ]
  },
  {
   "cell_type": "markdown",
   "metadata": {},
   "source": [
    "#### La prueba estadistica de Z es -0.702 y el pvalue es 0.4821. No se rechaza la hipotesis Nula"
   ]
  },
  {
   "cell_type": "code",
   "execution_count": 71,
   "metadata": {
    "collapsed": true
   },
   "outputs": [],
   "source": [
    "#Ejemplo 7.8. El director de un hospital afirma que el 25 por ciento de los nacimientos que\n",
    "#ocurren allí son por cesárea.  Un médico que trabaja en dicho hospital piensa\n",
    "#que ese porcentaje es mayor.  Para probar su afirmación recolecta información\n",
    "#de los 25 nacimientos ocurridos durante una semana. \n",
    "partos=['cesarea','normal','cesarea','normal','normal','normal','normal','cesarea','normal','cesarea',\n",
    "        'normal','cesarea','normal','normal','normal','normal','normal','cesarea','normal','normal',\n",
    "        'cesarea','normal','normal','cesarea','normal']"
   ]
  },
  {
   "cell_type": "code",
   "execution_count": 72,
   "metadata": {
    "collapsed": true
   },
   "outputs": [],
   "source": [
    "conteos=partos.count('cesarea')"
   ]
  },
  {
   "cell_type": "code",
   "execution_count": 73,
   "metadata": {
    "collapsed": true
   },
   "outputs": [],
   "source": [
    "trials=len(partos)"
   ]
  },
  {
   "cell_type": "code",
   "execution_count": 74,
   "metadata": {},
   "outputs": [
    {
     "data": {
      "text/plain": [
       "(0.75030630999847625, 0.22653512156653899)"
      ]
     },
     "execution_count": 74,
     "metadata": {},
     "output_type": "execute_result"
    }
   ],
   "source": [
    "proportions_ztest(conteos,trials,value=.25,alternative='larger')"
   ]
  },
  {
   "cell_type": "markdown",
   "metadata": {},
   "source": [
    "#### La pueba estadistica aproximada es 0.75 y el p-value es 0.226. No se rechaza la Hipotesis Nula"
   ]
  },
  {
   "cell_type": "code",
   "execution_count": null,
   "metadata": {
    "collapsed": true
   },
   "outputs": [],
   "source": []
  }
 ],
 "metadata": {
  "kernelspec": {
   "display_name": "Python 2",
   "language": "python",
   "name": "python2"
  },
  "language_info": {
   "codemirror_mode": {
    "name": "ipython",
    "version": 2
   },
   "file_extension": ".py",
   "mimetype": "text/x-python",
   "name": "python",
   "nbconvert_exporter": "python",
   "pygments_lexer": "ipython2",
   "version": "2.7.13"
  }
 },
 "nbformat": 4,
 "nbformat_minor": 2
}
