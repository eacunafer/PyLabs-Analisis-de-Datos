{
 "cells": [
  {
   "cell_type": "markdown",
   "metadata": {},
   "source": [
    "### ESMA 3016\n",
    "### Edgar Acuna\n",
    "### Lab18: Distribucion de la Media Muestral y el Teorema del Limte Central"
   ]
  },
  {
   "cell_type": "code",
   "execution_count": 70,
   "metadata": {
    "collapsed": true
   },
   "outputs": [],
   "source": [
    "from scipy.stats  import norm\n",
    "import numpy as np\n",
    "import matplotlib.pyplot as plt\n",
    "from math import sqrt,factorial,pi\n",
    "%matplotlib inline"
   ]
  },
  {
   "cell_type": "code",
   "execution_count": 71,
   "metadata": {
    "collapsed": true,
    "scrolled": false
   },
   "outputs": [],
   "source": [
    "#Poblacion\n",
    "x=[3, 4, 6, 8, 10, 11, 12, 15, 20]"
   ]
  },
  {
   "cell_type": "code",
   "execution_count": 72,
   "metadata": {},
   "outputs": [
    {
     "name": "stdout",
     "output_type": "stream",
     "text": [
      "9.88888888889 5.41858940234\n"
     ]
    }
   ],
   "source": [
    "print np.mean(x), np.std(x,ddof=1)"
   ]
  },
  {
   "cell_type": "code",
   "execution_count": 73,
   "metadata": {
    "collapsed": true
   },
   "outputs": [],
   "source": [
    "a=np.random.choice(x, 1500, replace=True)\n",
    "b=a.reshape(50,-1)"
   ]
  },
  {
   "cell_type": "code",
   "execution_count": 74,
   "metadata": {},
   "outputs": [
    {
     "name": "stdout",
     "output_type": "stream",
     "text": [
      "[  9.8         10.53333333  10.16666667   8.43333333  10.36666667  10.\n",
      "   8.96666667  10.8         10.93333333  10.7         10.6         10.8\n",
      "  10.43333333   9.16666667  10.33333333   9.1         10.6          9.43333333\n",
      "  10.03333333   8.76666667  11.53333333   9.56666667   8.93333333   9.4\n",
      "   9.13333333   9.83333333   9.23333333   7.3         10.66666667\n",
      "   8.66666667  10.43333333   8.63333333   9.86666667   9.93333333  11.4\n",
      "  10.86666667  10.3         11.93333333   9.7          8.4          9.43333333\n",
      "   9.6          9.8         10.36666667   9.36666667   9.63333333  10.3\n",
      "   9.6          8.13333333  12.56666667]\n"
     ]
    }
   ],
   "source": [
    "medias1=b.mean(axis=1)\n",
    "print medias1"
   ]
  },
  {
   "cell_type": "code",
   "execution_count": 57,
   "metadata": {
    "scrolled": true
   },
   "outputs": [
    {
     "name": "stdout",
     "output_type": "stream",
     "text": [
      "9.72332 0.291014224275\n"
     ]
    }
   ],
   "source": [
    "#Calculando la media y estandar deeviation de las 30 medias\n",
    "mean2=np.mean(medias1)\n",
    "sd2=np.std(medias1,ddof=1)\n",
    "print mean2,sd2"
   ]
  },
  {
   "cell_type": "code",
   "execution_count": 58,
   "metadata": {
    "scrolled": true
   },
   "outputs": [
    {
     "data": {
      "text/plain": [
       "0.2901388556459682"
      ]
     },
     "execution_count": 58,
     "metadata": {},
     "output_type": "execute_result"
    }
   ],
   "source": [
    "np.std(x,ddof=1)/sqrt(30)"
   ]
  },
  {
   "cell_type": "code",
   "execution_count": 64,
   "metadata": {
    "scrolled": false
   },
   "outputs": [
    {
     "data": {
      "text/plain": [
       "<matplotlib.legend.Legend at 0xb0d1e10>"
      ]
     },
     "execution_count": 64,
     "metadata": {},
     "output_type": "execute_result"
    },
    {
     "data": {
      "image/png": "[encoded data removed]",
      "text/plain": [
       "<matplotlib.figure.Figure at 0xbe0c860>"
      ]
     },
     "metadata": {},
     "output_type": "display_data"
    }
   ],
   "source": [
    "x=np.arange(9,10.75,.01)\n",
    "fig, ax = plt.subplots(1, 1)\n",
    "ax.hist(medias1,bins=7,normed = True,alpha=.5)\n",
    "ax.plot(x, norm.pdf(x,loc=9.88,scale=.290), 'k-', lw=1, label='Densidad Gaussiana')\n",
    "ax.legend(loc='best', frameon=False)"
   ]
  },
  {
   "cell_type": "code",
   "execution_count": null,
   "metadata": {
    "collapsed": true
   },
   "outputs": [],
   "source": []
  }
 ],
 "metadata": {
  "kernelspec": {
   "display_name": "Python 2",
   "language": "python",
   "name": "python2"
  },
  "language_info": {
   "codemirror_mode": {
    "name": "ipython",
    "version": 2
   },
   "file_extension": ".py",
   "mimetype": "text/x-python",
   "name": "python",
   "nbconvert_exporter": "python",
   "pygments_lexer": "ipython2",
   "version": "2.7.13"
  }
 },
 "nbformat": 4,
 "nbformat_minor": 2
}
