{
 "cells": [
  {
   "cell_type": "markdown",
   "metadata": {},
   "source": [
    "## ESMA 3016\n",
    "### Edgar Acuna\n",
    "### El problema de los cumpleanos y la probabilidad de corridas usando simulacion\n",
    "Uso de las librerias numpy, pandas,math y random"
   ]
  },
  {
   "cell_type": "code",
   "execution_count": 2,
   "metadata": {
    "collapsed": true
   },
   "outputs": [],
   "source": [
    "import numpy as np\n",
    "import pandas as pd\n",
    "import random as rd\n",
    "from math import factorial "
   ]
  },
  {
   "cell_type": "code",
   "execution_count": 3,
   "metadata": {},
   "outputs": [
    {
     "data": {
      "text/plain": [
       "5040"
      ]
     },
     "execution_count": 3,
     "metadata": {},
     "output_type": "execute_result"
    }
   ],
   "source": [
    "#Calculando el factorial de 7\n",
    "factorial(7)"
   ]
  },
  {
   "cell_type": "code",
   "execution_count": 4,
   "metadata": {},
   "outputs": [
    {
     "data": {
      "text/plain": [
       "336"
      ]
     },
     "execution_count": 4,
     "metadata": {},
     "output_type": "execute_result"
    }
   ],
   "source": [
    "#Calculando el numero de permutaciones de 8 objetos ordenados de 3 en 3\n",
    "factorial(8)/factorial(5)"
   ]
  },
  {
   "cell_type": "code",
   "execution_count": 5,
   "metadata": {},
   "outputs": [
    {
     "data": {
      "text/plain": [
       "56"
      ]
     },
     "execution_count": 5,
     "metadata": {},
     "output_type": "execute_result"
    }
   ],
   "source": [
    "#Calculando el numero de combinaciones de 8 objetos tomados de 3 en 3\n",
    "factorial(8)/factorial(3)/factorial(5)"
   ]
  },
  {
   "cell_type": "code",
   "execution_count": 6,
   "metadata": {
    "scrolled": true
   },
   "outputs": [
    {
     "data": {
      "text/plain": [
       "0.5686997039694639"
      ]
     },
     "execution_count": 6,
     "metadata": {},
     "output_type": "execute_result"
    }
   ],
   "source": [
    "#Problema de las cumpleanos. Cual es la probabilidad de que en un grupo\n",
    "#de 25 personas por los menos dos de ellas cumplan anos el mismo dia.\n",
    "#Calculando la probabilidad exacta\n",
    "#Haciendolo por complemento La solucion exacta es 1-P(365,25)/365^25=.5686.\n",
    "#p1=1-factorial(365)/(factorial(340)*365^25) da Overflow\n",
    "#Una mejor alternativa es usando productorios\n",
    "from numpy import prod\n",
    "lista=range(0,25)\n",
    "1-prod([1-(i/float(365)) for i in lista])"
   ]
  },
  {
   "cell_type": "code",
   "execution_count": 7,
   "metadata": {
    "scrolled": false
   },
   "outputs": [
    {
     "data": {
      "text/plain": [
       "0.5722"
      ]
     },
     "execution_count": 7,
     "metadata": {},
     "output_type": "execute_result"
    }
   ],
   "source": [
    "#Estimado la probabilidad haciendo  10000 simulaciones\n",
    "#a=np.random.choice(range(1,366),25)\n",
    "#b=25-len(np.unique(a))\n",
    "#print b\n",
    "# Se usa el caracter _ con for para indicar que el comando antes del for se repite 10000 veces\n",
    "bdays=[25-len(np.unique(np.random.choice(range(1,366),25))) for _ in range(10000)]\n",
    "a=np.nonzero(bdays)\n",
    "p1est=len(np.transpose(a))/float(10000)\n",
    "p1est"
   ]
  },
  {
   "cell_type": "code",
   "execution_count": 8,
   "metadata": {
    "collapsed": true
   },
   "outputs": [],
   "source": [
    "#Problema de las corridas.\n",
    "#Cual es la probabilidad de que si estacionan 8 carros al azar\n",
    "#en un estacionamiento donde hay 12 espacios, los 4 espacios\n",
    "#vacios queden juntos?\n",
    "#la contestacion exacta es .0181\n",
    "#Consideremos como 1 si el espacio en el estacionamiento es ocupado\n",
    "#y 0 si no es ocupado. Lo que queremos es  una secuencia como\n",
    "#110000111111. La secuencia 10001111110 no se es deseada\n",
    "#Simulando 10000 maneras de estacionarse\n"
   ]
  },
  {
   "cell_type": "code",
   "execution_count": 9,
   "metadata": {
    "collapsed": true
   },
   "outputs": [],
   "source": [
    "a=[0,0,0,0,1,1,1,1,1,1,1,1]"
   ]
  },
  {
   "cell_type": "code",
   "execution_count": 10,
   "metadata": {},
   "outputs": [
    {
     "data": {
      "text/plain": [
       "[0, 1, 0, 1, 1, 1, 1, 0, 0, 1, 1, 1]"
      ]
     },
     "execution_count": 10,
     "metadata": {},
     "output_type": "execute_result"
    }
   ],
   "source": [
    "# Haciendo un reordenamiento de los elementos de a\n",
    "np.random.shuffle(a)\n",
    "a"
   ]
  },
  {
   "cell_type": "code",
   "execution_count": 11,
   "metadata": {
    "collapsed": true
   },
   "outputs": [],
   "source": [
    "#Haciendo una funcion para encontrar las corridas de ceros\n",
    "def zero_runs(a):\n",
    "    # Creando un arreglo que es 1 cuando el elemnto de a es 0 y que es 0 en caso contario\n",
    "    # y que anade un 0 en cada extremo del arregloa is 0.\n",
    "    iszero = np.concatenate(([0], np.equal(a, 0).view(np.int8), [0]))\n",
    "    #Hallando las diferencias consecutivas, en valor absoluto\n",
    "    absdiff = np.abs(np.diff(iszero))\n",
    "    # Hallando las corridas de ceros estableciendo donde  absdiff es 1.\n",
    "    ranges = np.where(absdiff == 1)[0].reshape(-1, 2)\n",
    "    return ranges"
   ]
  },
  {
   "cell_type": "code",
   "execution_count": 12,
   "metadata": {
    "collapsed": true
   },
   "outputs": [],
   "source": [
    "# haciendo una funcion que encuentre el mayor valor de la corrida en cada repeticion\n",
    "def max_run(a):\n",
    "    np.random.shuffle(a)\n",
    "    runs = zero_runs(a)\n",
    "    maxrun = np.max(runs[:,1]-runs[:,0])\n",
    "    return maxrun               "
   ]
  },
  {
   "cell_type": "code",
   "execution_count": 13,
   "metadata": {},
   "outputs": [
    {
     "data": {
      "text/plain": [
       "0.2502"
      ]
     },
     "execution_count": 13,
     "metadata": {},
     "output_type": "execute_result"
    }
   ],
   "source": [
    "# Estimando la probabilidad mediante el conteo de todos los resulatdos donde el valor maximo de la corrida es 4\n",
    "a=[0,0,1,1,1,1,1,1]\n",
    "b1=[max_run(a) for _ in range(10000)]\n",
    "b1.count(2)/float(10000)"
   ]
  },
  {
   "cell_type": "code",
   "execution_count": null,
   "metadata": {
    "collapsed": true
   },
   "outputs": [],
   "source": []
  }
 ],
 "metadata": {
  "kernelspec": {
   "display_name": "Python 2",
   "language": "python",
   "name": "python2"
  },
  "language_info": {
   "codemirror_mode": {
    "name": "ipython",
    "version": 2
   },
   "file_extension": ".py",
   "mimetype": "text/x-python",
   "name": "python",
   "nbconvert_exporter": "python",
   "pygments_lexer": "ipython2",
   "version": "2.7.13"
  }
 },
 "nbformat": 4,
 "nbformat_minor": 2
}
